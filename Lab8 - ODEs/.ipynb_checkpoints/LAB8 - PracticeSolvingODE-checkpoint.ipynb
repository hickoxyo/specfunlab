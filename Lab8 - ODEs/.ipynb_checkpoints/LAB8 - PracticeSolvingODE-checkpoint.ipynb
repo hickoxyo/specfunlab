{
 "cells": [
  {
   "cell_type": "markdown",
   "metadata": {},
   "source": [
    "## LAB 8: \n",
    "**Practice solving first order ODE**\n",
    "\n",
    "**Solve first order ODE using two different methods. In each method, plot the result and compare the plotted output**\n",
    "\n",
    "# $ y' + 2y = 2 - \\exp^{-4t} $ \n",
    "\n",
    "## Solving for $y': y' = - 2y + 2 - \\exp^{-4t} $\n",
    "\n",
    "## $ Use \\ y_{0} = 1 $,  as the intitial condition\n",
    "\n",
    "\n",
    "Use two methods\n",
    "\n",
    "- 1. Write a funtion to calculate it yourself\n",
    "- 2. Use odeint() funtion to do the same\n",
    "- Then compare results\n",
    "\n",
    "**Method 1 - Write your own**\n",
    "\n",
    "- Use the following to calculate \n",
    "$ y_{t+\\Delta t} \\ {given} \\  y_t $\n",
    "\n",
    "\n",
    "$ y_{t+\\Delta t} = \\Delta{t}* y'+y_t $ ------- (1)\n",
    "\n",
    "Where, y' is dy/dt, $\\Delta t$ is time duration\n",
    "\n",
    "**Method 2: Use odeint() from scipy.integrate**\n",
    "\n",
    "#### Background\n",
    "- https://pythonnumericalmethods.berkeley.edu/notebooks/chapter20.00-Numerical-Differentiation.html\n",
    "- https://www.mathworks.com/videos/solving-odes-in-matlab-1-euler-ode1-117526.html\n"
   ]
  },
  {
   "cell_type": "code",
   "execution_count": 1,
   "metadata": {},
   "outputs": [],
   "source": [
    "# All imports\n",
    "import numpy as np\n",
    "import matplotlib.pyplot as plt\n",
    "from scipy.integrate import odeint"
   ]
  },
  {
   "cell_type": "markdown",
   "metadata": {},
   "source": [
    "### Initilize parameters\n",
    "1. Define intial value of y at time  = 0\n",
    "2. Define time step\n",
    "3. Define number of steps"
   ]
  },
  {
   "cell_type": "code",
   "execution_count": 2,
   "metadata": {},
   "outputs": [],
   "source": [
    "#### define initial condition, delta t, and time duration\n",
    "y0 = 1.0 # initial value\n",
    "dt = .01 # time step size\n",
    "Tspan = 5 # duration\n",
    "Time = np.arange(0,Tspan, dt)"
   ]
  },
  {
   "cell_type": "markdown",
   "metadata": {},
   "source": [
    "### Method1\n",
    "1. Initialize empty list to save value of y at various time steps\n",
    "2. Set current y (ycur) to y0 (y at time = 0)\n"
   ]
  },
  {
   "cell_type": "code",
   "execution_count": 3,
   "metadata": {},
   "outputs": [
    {
     "data": {
      "image/png": "[encoded data removed]",
      "text/plain": [
       "<Figure size 640x480 with 1 Axes>"
      ]
     },
     "metadata": {},
     "output_type": "display_data"
    }
   ],
   "source": [
    "#Solve ODE and plot results\n",
    "ys = []\n",
    "ycur = y0\n",
    "for t in Time:\n",
    "    # calculate y at t + 1, using equation (1) above\n",
    "    ynext = dt*(2*(1-ycur) - np.exp(-4*t)) + ycur\n",
    "    # save next\n",
    "    ys.append(ynext)\n",
    "    # ycur to ynext\n",
    "    ycur = ynext\n",
    "Line = plt.plot(Time, ys, 'b.')\n"
   ]
  },
  {
   "cell_type": "markdown",
   "metadata": {},
   "source": [
    "### Method2: Use odeint from scipy.integrate to verify our result\n",
    "\n",
    "1. Define a function to calculate $ \\frac {dy}{dt} $, given y and t\n",
    "2. odeint() will call this function to calculate dy/dt\n",
    "3. call odeint() to do the hard work"
   ]
  },
  {
   "cell_type": "code",
   "execution_count": 42,
   "metadata": {},
   "outputs": [],
   "source": [
    "### define the function to calculate the derivative at a point\n",
    "\n",
    "def dydt(y, t):\n",
    "    yt = (2 - 2*y - np.exp(-4*t))*t\n",
    "    return yt\n"
   ]
  },
  {
   "cell_type": "code",
   "execution_count": 43,
   "metadata": {},
   "outputs": [
    {
     "data": {
      "image/png": "[encoded data removed]",
      "text/plain": [
       "<Figure size 432x288 with 1 Axes>"
      ]
     },
     "metadata": {
      "needs_background": "light"
     },
     "output_type": "display_data"
    }
   ],
   "source": [
    "### Use odeint to do the work given dydt(), t0, and Time steps\n",
    "\n",
    "z = odeint(dydt, y0, Time)\n",
    "Line = plt.plot(Time, z, 'b.')\n"
   ]
  }
 ],
 "metadata": {
  "kernelspec": {
   "display_name": "Python 3 (ipykernel)",
   "language": "python",
   "name": "python3"
  },
  "language_info": {
   "codemirror_mode": {
    "name": "ipython",
    "version": 3
   },
   "file_extension": ".py",
   "mimetype": "text/x-python",
   "name": "python",
   "nbconvert_exporter": "python",
   "pygments_lexer": "ipython3",
   "version": "3.11.4"
  },
  "varInspector": {
   "cols": {
    "lenName": 16,
    "lenType": 16,
    "lenVar": 40
   },
   "kernels_config": {
    "python": {
     "delete_cmd_postfix": "",
     "delete_cmd_prefix": "del ",
     "library": "var_list.py",
     "varRefreshCmd": "print(var_dic_list())"
    },
    "r": {
     "delete_cmd_postfix": ") ",
     "delete_cmd_prefix": "rm(",
     "library": "var_list.r",
     "varRefreshCmd": "cat(var_dic_list()) "
    }
   },
   "types_to_exclude": [
    "module",
    "function",
    "builtin_function_or_method",
    "instance",
    "_Feature"
   ],
   "window_display": true
  }
 },
 "nbformat": 4,
 "nbformat_minor": 2
}
