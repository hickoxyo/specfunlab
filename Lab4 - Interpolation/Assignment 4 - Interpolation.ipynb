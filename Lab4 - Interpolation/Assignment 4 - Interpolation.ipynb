{
 "cells": [
  {
   "cell_type": "markdown",
   "id": "8ad9d5bd",
   "metadata": {},
   "source": [
    "### Assignment 4 - Interpolation\n",
    "### Put you name here\n",
    "#### NOTE: Submit this file as \"yourname-assignment4.ipynb\" to Moodle after completing the assignment\n",
    "\n",
    "ASSIGNMENT\n",
    "\n",
    "There are two parts to this assignment:\n",
    "- Calculate Lagrange interpolation of larvae weights. See (1) below\n",
    "- Interpolate molecular data. See (2) below\n",
    "\n",
    "NOTES and Instructions:\n",
    "- File 'PA_Interpolation_Data.csv' contains data for part (2) in csv format. Code is provided to load it two ways. You may use these or your own method."
   ]
  },
  {
   "cell_type": "code",
   "execution_count": 1,
   "id": "7de28705",
   "metadata": {},
   "outputs": [],
   "source": [
    "# You may import other libraries if you need\n",
    "import numpy as np \n",
    "import matplotlib.pyplot as plt\n",
    "from scipy.interpolate import interp1d, interpolate, lagrange, UnivariateSpline, BSpline\n",
    "from pandas import read_csv"
   ]
  },
  {
   "cell_type": "markdown",
   "id": "be4a2d15",
   "metadata": {},
   "source": [
    "#### 1. Lagrange Interpolation of larvae weights\n",
    "Reference:\n",
    "https://mathworld.wolfram.com/LagrangeInterpolatingPolynomial.html \n",
    "\n",
    "Show… nearly by hand… though a computer can help you the Lagrange Interpolation Polynomial for the following problem.\n",
    "\n",
    "The tannins in mature oak leaves are thought to inhibit the growth of the winter moth larvae that extensively damage these trees.  The table lists the average weight of two samples of larvae at times in the first 28 days after birth.  The first sample was reared on young oak leaves, whereas the second sample was reared on mature leaves from the same tree.\n",
    "\n",
    "\n",
    "||Larvae Weight|||||||\n",
    "--- | --- | ---|--- | --- | ---|--- | --- |\n",
    "|Days\t|        0\t |   6\t|    10\t |   13\t |   17 \t|    20\t  |  28|\n",
    "|Sample  (mg)|\t6.67|\t17.33\t|42.67\t|37.33\t|30.10\t|29.31\t|28.74|\n",
    "|Sample 2 (mg) |\t6.67|\t16.11\t|18.89|\t15.00\t|0.56\t|9.44\t|8.89|\n",
    "\n",
    "Answer the following questions (use as many code or markdown cells needed):\n",
    "\n",
    "* What is the order of the Lagrange Polynomial that will fit this data?\n",
    "* Use Lagrange interpolation to approximate the average weight curve for each sample.\n",
    "* Find an approximate maximum average weight for each sample by determining the maximum of the interpolating polynomial.\n",
    "* Include a plot of the data in your Jupyter Notebook which highlights your curve and the data points accurately.\n",
    "\n"
   ]
  },
  {
   "cell_type": "code",
   "execution_count": 2,
   "id": "f01027d5",
   "metadata": {},
   "outputs": [],
   "source": [
    "# This is an empty cell. Use it for your code"
   ]
  },
  {
   "cell_type": "markdown",
   "id": "3fdfdb46",
   "metadata": {},
   "source": [
    "#### 2. Interpolate molecular data\n",
    "\n",
    "Interpolate the data and plot both data and results. The data is loaded from the file:\n",
    "PA_Interpolation_Data.csv\n",
    "\n",
    "Use four of the following inerpolation methods\n",
    "\n",
    " 1. linear\n",
    " 2. nearest\n",
    " 3. zero\n",
    " 4. slinear\n",
    " 5. quadratic\n",
    " 6. cubic\n",
    " 7. previous\n",
    " 8. next\n",
    " \n",
    "Use the 1D interpolation method (interp1d) in the numpy library. The 1D interpolation function has several parameters including a \"kind\" parameter. Use it to specify the interpolation method names given above.\n",
    "Find out how to use it here:\n",
    "\n",
    "https://docs.scipy.org/doc/scipy/reference/generated/scipy.interpolate.interp1d.html \n",
    "\n",
    "There are many different interpolation methods besides the methods that we discussed in class.  Please explore these methods and compare at least 3 of these different methods in the interpolation of your data.  As part of your Jupyter notebook offer a general explanation for how the methods you selected work.  Comment on the strengths/weaknesses of the different interpolations as fit to the data."
   ]
  },
  {
   "cell_type": "code",
   "execution_count": 3,
   "id": "1a77832a",
   "metadata": {},
   "outputs": [],
   "source": [
    "#data = np.genfromtxt('./PA_Interpolation_Data.csv', delimiter=',', skip_header=1)\n",
    "#Time = data[:,0]\n",
    "#Ma = data[:,1]\n",
    "#Pr = data[:,2]\n",
    "#print('Number of points: {}'.format(len(Time)))\n",
    "#plt.scatter(Pr, Ma, marker='o', color='r')\n",
    "#plt.grid('on')\n",
    "#p=plt.title('Pressure vs. Mol Area')"
   ]
  },
  {
   "cell_type": "code",
   "execution_count": 4,
   "id": "c7da224c",
   "metadata": {},
   "outputs": [
    {
     "data": {
      "text/html": [
       "<div>\n",
       "<style scoped>\n",
       "    .dataframe tbody tr th:only-of-type {\n",
       "        vertical-align: middle;\n",
       "    }\n",
       "\n",
       "    .dataframe tbody tr th {\n",
       "        vertical-align: top;\n",
       "    }\n",
       "\n",
       "    .dataframe thead th {\n",
       "        text-align: right;\n",
       "    }\n",
       "</style>\n",
       "<table border=\"1\" class=\"dataframe\">\n",
       "  <thead>\n",
       "    <tr style=\"text-align: right;\">\n",
       "      <th></th>\n",
       "      <th>Time</th>\n",
       "      <th>Ma</th>\n",
       "      <th>Pr</th>\n",
       "    </tr>\n",
       "  </thead>\n",
       "  <tbody>\n",
       "    <tr>\n",
       "      <th>0</th>\n",
       "      <td>52.801</td>\n",
       "      <td>110.555106</td>\n",
       "      <td>-0.004607</td>\n",
       "    </tr>\n",
       "    <tr>\n",
       "      <th>1</th>\n",
       "      <td>61.500</td>\n",
       "      <td>107.974020</td>\n",
       "      <td>0.023033</td>\n",
       "    </tr>\n",
       "    <tr>\n",
       "      <th>2</th>\n",
       "      <td>72.401</td>\n",
       "      <td>104.815079</td>\n",
       "      <td>0.087527</td>\n",
       "    </tr>\n",
       "    <tr>\n",
       "      <th>3</th>\n",
       "      <td>82.100</td>\n",
       "      <td>101.983589</td>\n",
       "      <td>0.239548</td>\n",
       "    </tr>\n",
       "    <tr>\n",
       "      <th>4</th>\n",
       "      <td>92.101</td>\n",
       "      <td>98.998005</td>\n",
       "      <td>0.585051</td>\n",
       "    </tr>\n",
       "  </tbody>\n",
       "</table>\n",
       "</div>"
      ],
      "text/plain": [
       "     Time          Ma        Pr\n",
       "0  52.801  110.555106 -0.004607\n",
       "1  61.500  107.974020  0.023033\n",
       "2  72.401  104.815079  0.087527\n",
       "3  82.100  101.983589  0.239548\n",
       "4  92.101   98.998005  0.585051"
      ]
     },
     "execution_count": 4,
     "metadata": {},
     "output_type": "execute_result"
    }
   ],
   "source": [
    "prma = read_csv('./PA_Interpolation_Data.csv', names = ['Time', 'Ma', 'Pr'], header=0)\n",
    "prma.head()"
   ]
  },
  {
   "cell_type": "code",
   "execution_count": 5,
   "id": "4b6f4379",
   "metadata": {},
   "outputs": [
    {
     "name": "stdout",
     "output_type": "stream",
     "text": [
      "Number of points: 23\n"
     ]
    },
    {
     "data": {
      "image/png": "[encoded data removed]",
      "text/plain": [
       "<Figure size 640x480 with 1 Axes>"
      ]
     },
     "metadata": {},
     "output_type": "display_data"
    }
   ],
   "source": [
    "Ti = np.array(prma[\"Time\"])\n",
    "Ma = np.array(prma[\"Ma\"])\n",
    "Pr = np.array(prma[\"Pr\"])\n",
    "print('Number of points: {}'.format(len(Ti)))\n",
    "plt.scatter(Pr, Ma, marker='o', color='r')\n",
    "plt.grid('on')\n",
    "p=plt.title('Pressure vs. Mol Area')"
   ]
  },
  {
   "cell_type": "code",
   "execution_count": null,
   "id": "c4043d95",
   "metadata": {},
   "outputs": [],
   "source": []
  }
 ],
 "metadata": {
  "kernelspec": {
   "display_name": "Python 3 (ipykernel)",
   "language": "python",
   "name": "python3"
  },
  "language_info": {
   "codemirror_mode": {
    "name": "ipython",
    "version": 3
   },
   "file_extension": ".py",
   "mimetype": "text/x-python",
   "name": "python",
   "nbconvert_exporter": "python",
   "pygments_lexer": "ipython3",
   "version": "3.11.4"
  },
  "varInspector": {
   "cols": {
    "lenName": 16,
    "lenType": 16,
    "lenVar": 40
   },
   "kernels_config": {
    "python": {
     "delete_cmd_postfix": "",
     "delete_cmd_prefix": "del ",
     "library": "var_list.py",
     "varRefreshCmd": "print(var_dic_list())"
    },
    "r": {
     "delete_cmd_postfix": ") ",
     "delete_cmd_prefix": "rm(",
     "library": "var_list.r",
     "varRefreshCmd": "cat(var_dic_list()) "
    }
   },
   "types_to_exclude": [
    "module",
    "function",
    "builtin_function_or_method",
    "instance",
    "_Feature"
   ],
   "window_display": false
  }
 },
 "nbformat": 4,
 "nbformat_minor": 5
}
