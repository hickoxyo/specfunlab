{
 "cells": [
  {
   "cell_type": "markdown",
   "metadata": {},
   "source": [
    "## Assignment 2 - Process IV (current vs.  voltage) data (LED)\n",
    "\n",
    "### Put you name here\n",
    "#### NOTE: Submit this file as \"yourname-assignment2.ipynb\" to Moodle after completing the assignment\n",
    "\n",
    "\n",
    "### Assignment\n",
    "\n",
    "**Compute LEDs power consumption. Use the I-V data given. The area under the I-V curve represents the power consumption. Use trapz() from numpy to calculate the integral value. (Optional challenge) In a plot shade the region whose area was calculated**\n",
    "\n",
    "- Load I-V data from the EXCEL file\n",
    " - Use read_excel() from pandas module\n",
    " - [read_excel](https://pandas.pydata.org/docs/reference/api/pandas.read_excel.html#)\n",
    " - The data was collected by Electronics students a couple of years ago.\n",
    "- Find the power consumption and (optionally) plot the results\n",
    " - [trapz](https://numpy.org/doc/stable/reference/generated/numpy.trapz.html#)"
   ]
  },
  {
   "cell_type": "code",
   "execution_count": 1,
   "metadata": {},
   "outputs": [],
   "source": [
    "# Enter all imports here"
   ]
  },
  {
   "cell_type": "code",
   "execution_count": 2,
   "metadata": {},
   "outputs": [],
   "source": [
    "# Define all constants and \"global\" variables"
   ]
  },
  {
   "cell_type": "code",
   "execution_count": 3,
   "metadata": {},
   "outputs": [],
   "source": [
    "# Read data and view for correctness\n",
    "# Show the raw data"
   ]
  },
  {
   "cell_type": "code",
   "execution_count": null,
   "metadata": {},
   "outputs": [],
   "source": [
    "# Find power and plot"
   ]
  }
 ],
 "metadata": {
  "kernelspec": {
   "display_name": "Python 3 (ipykernel)",
   "language": "python",
   "name": "python3"
  },
  "language_info": {
   "codemirror_mode": {
    "name": "ipython",
    "version": 3
   },
   "file_extension": ".py",
   "mimetype": "text/x-python",
   "name": "python",
   "nbconvert_exporter": "python",
   "pygments_lexer": "ipython3",
   "version": "3.11.4"
  },
  "varInspector": {
   "cols": {
    "lenName": 16,
    "lenType": 16,
    "lenVar": 40
   },
   "kernels_config": {
    "python": {
     "delete_cmd_postfix": "",
     "delete_cmd_prefix": "del ",
     "library": "var_list.py",
     "varRefreshCmd": "print(var_dic_list())"
    },
    "r": {
     "delete_cmd_postfix": ") ",
     "delete_cmd_prefix": "rm(",
     "library": "var_list.r",
     "varRefreshCmd": "cat(var_dic_list()) "
    }
   },
   "position": {
    "height": "99px",
    "left": "1136px",
    "right": "20px",
    "top": "10px",
    "width": "301px"
   },
   "types_to_exclude": [
    "module",
    "function",
    "builtin_function_or_method",
    "instance",
    "_Feature"
   ],
   "window_display": true
  }
 },
 "nbformat": 4,
 "nbformat_minor": 2
}
