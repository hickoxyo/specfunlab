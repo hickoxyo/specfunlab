{
 "cells": [
  {
   "cell_type": "markdown",
   "id": "4605dc07",
   "metadata": {},
   "source": [
    "### NUMPY Arrays\n",
    "\n",
    "NUMPY arrays are very important data structure in Python.\n",
    "It is important to know how to create, index, and use its powerful operations.\n",
    "See the links below for thorough documentation on NDARRAYS (n-dimension NUMPY array)\n",
    "\n",
    "Must also understand:\n",
    "- vectorization of simple operations over all array elements\n",
    "- broadcasting allows arithmetic operations between unlike arrays (not to be confused with matrix algebra)\n",
    "\n",
    "Reference: \n",
    "- [ndarray](https://numpy.org/doc/stable/reference/arrays.ndarray.html)\n",
    "- [numpy array](https://docs.scipy.org/doc/numpy/reference/arrays.html?highlight=array)\n",
    "- [numpy lecture](https://scipy-lectures.org/intro/numpy/index.html)"
   ]
  },
  {
   "cell_type": "code",
   "execution_count": 2,
   "id": "6ba36290",
   "metadata": {},
   "outputs": [],
   "source": [
    "import pandas as pd\n",
    "import numpy as np\n",
    "import matplotlib.pyplot as plt"
   ]
  },
  {
   "cell_type": "code",
   "execution_count": null,
   "id": "cfa8a4dc",
   "metadata": {},
   "outputs": [],
   "source": []
  },
  {
   "cell_type": "markdown",
   "id": "18bc7054",
   "metadata": {},
   "source": [
    "> Read IV data into a pandas data frame from an excel spreadsheet"
   ]
  },
  {
   "cell_type": "code",
   "execution_count": 3,
   "id": "b01116f3",
   "metadata": {
    "scrolled": false
   },
   "outputs": [
    {
     "data": {
      "text/html": [
       "<div>\n",
       "<style scoped>\n",
       "    .dataframe tbody tr th:only-of-type {\n",
       "        vertical-align: middle;\n",
       "    }\n",
       "\n",
       "    .dataframe tbody tr th {\n",
       "        vertical-align: top;\n",
       "    }\n",
       "\n",
       "    .dataframe thead th {\n",
       "        text-align: right;\n",
       "    }\n",
       "</style>\n",
       "<table border=\"1\" class=\"dataframe\">\n",
       "  <thead>\n",
       "    <tr style=\"text-align: right;\">\n",
       "      <th></th>\n",
       "      <th>1</th>\n",
       "      <th>volts</th>\n",
       "      <th>3</th>\n",
       "      <th>4</th>\n",
       "      <th>5</th>\n",
       "      <th>6</th>\n",
       "      <th>amperes</th>\n",
       "    </tr>\n",
       "  </thead>\n",
       "  <tbody>\n",
       "    <tr>\n",
       "      <th>0</th>\n",
       "      <td>Total V:</td>\n",
       "      <td>0.004888</td>\n",
       "      <td>NaN</td>\n",
       "      <td>2</td>\n",
       "      <td>Resistor I:</td>\n",
       "      <td>NaN</td>\n",
       "      <td>0.0</td>\n",
       "    </tr>\n",
       "    <tr>\n",
       "      <th>1</th>\n",
       "      <td>Total V:</td>\n",
       "      <td>0.009775</td>\n",
       "      <td>NaN</td>\n",
       "      <td>3</td>\n",
       "      <td>Resistor I:</td>\n",
       "      <td>NaN</td>\n",
       "      <td>0.0</td>\n",
       "    </tr>\n",
       "    <tr>\n",
       "      <th>2</th>\n",
       "      <td>Total V:</td>\n",
       "      <td>0.014663</td>\n",
       "      <td>NaN</td>\n",
       "      <td>4</td>\n",
       "      <td>Resistor I:</td>\n",
       "      <td>NaN</td>\n",
       "      <td>0.0</td>\n",
       "    </tr>\n",
       "    <tr>\n",
       "      <th>3</th>\n",
       "      <td>Total V:</td>\n",
       "      <td>0.019550</td>\n",
       "      <td>NaN</td>\n",
       "      <td>5</td>\n",
       "      <td>Resistor I:</td>\n",
       "      <td>NaN</td>\n",
       "      <td>0.0</td>\n",
       "    </tr>\n",
       "    <tr>\n",
       "      <th>4</th>\n",
       "      <td>Total V:</td>\n",
       "      <td>0.024438</td>\n",
       "      <td>NaN</td>\n",
       "      <td>6</td>\n",
       "      <td>Resistor I:</td>\n",
       "      <td>NaN</td>\n",
       "      <td>0.0</td>\n",
       "    </tr>\n",
       "  </tbody>\n",
       "</table>\n",
       "</div>"
      ],
      "text/plain": [
       "          1     volts   3  4            5   6  amperes\n",
       "0  Total V:  0.004888 NaN  2  Resistor I: NaN      0.0\n",
       "1  Total V:  0.009775 NaN  3  Resistor I: NaN      0.0\n",
       "2  Total V:  0.014663 NaN  4  Resistor I: NaN      0.0\n",
       "3  Total V:  0.019550 NaN  5  Resistor I: NaN      0.0\n",
       "4  Total V:  0.024438 NaN  6  Resistor I: NaN      0.0"
      ]
     },
     "execution_count": 3,
     "metadata": {},
     "output_type": "execute_result"
    }
   ],
   "source": [
    "col_hdrs = ['1','volts','3','4','5','6','amperes']\n",
    "IV = pd.read_excel('IV_LED_Data.xlsx', names = col_hdrs)\n",
    "IV.head()"
   ]
  },
  {
   "cell_type": "markdown",
   "id": "e95fb008",
   "metadata": {},
   "source": [
    "> Extract voltage and amperes from data frame and create two numpy arrays containing i and v values"
   ]
  },
  {
   "cell_type": "code",
   "execution_count": 15,
   "id": "3b904e67",
   "metadata": {},
   "outputs": [
    {
     "name": "stdout",
     "output_type": "stream",
     "text": [
      "Number of readings:  825\n"
     ]
    },
    {
     "data": {
      "image/png": "[encoded data removed]",
      "text/plain": [
       "<Figure size 640x480 with 1 Axes>"
      ]
     },
     "metadata": {},
     "output_type": "display_data"
    }
   ],
   "source": [
    "i = np.array(IV.amperes)\n",
    "v = np.array(IV.volts)\n",
    "print('Number of readings: ', len(v))\n",
    "plt.plot(v,i)\n",
    "plt.title('Raw IV data')\n",
    "plt.xlabel('volts')\n",
    "_=plt.ylabel('amps')"
   ]
  },
  {
   "cell_type": "markdown",
   "id": "29aea76b",
   "metadata": {},
   "source": [
    "> Array indexing - slicing and striding\n",
    "> Indexing element format \"start:stop:step\" with defaults\n",
    "\n",
    "~~~\n",
    "i[0:10] - slice from 0, to 10, in step of 1 (default not specified)\n",
    "i[0:10:2] stride in steps of two from 0 to 10\n",
    "~~~\n"
   ]
  },
  {
   "cell_type": "code",
   "execution_count": 24,
   "id": "4297fb8d",
   "metadata": {},
   "outputs": [],
   "source": [
    "_=v[0:10]"
   ]
  },
  {
   "cell_type": "code",
   "execution_count": 25,
   "id": "f4cdbffc",
   "metadata": {},
   "outputs": [],
   "source": [
    "_=v[0:10:2]"
   ]
  },
  {
   "cell_type": "markdown",
   "id": "526fda90",
   "metadata": {},
   "source": [
    "> Vectorized operator and logical indexing\n",
    "~~~\n",
    "idx = v > 2, finds all entries that meet the condition\n",
    "    returns an array of True and False values where condition is met or not met respectively\n",
    "    idx in this will be a boolean array\n",
    "v[idx] will return values > 2\n",
    "~~~"
   ]
  },
  {
   "cell_type": "code",
   "execution_count": 32,
   "id": "4a5cbeec",
   "metadata": {
    "scrolled": true
   },
   "outputs": [],
   "source": [
    "blah = v > 3.4"
   ]
  },
  {
   "cell_type": "code",
   "execution_count": 35,
   "id": "65c70f41",
   "metadata": {},
   "outputs": [
    {
     "data": {
      "text/plain": [
       "array([0.014174, 0.014223, 0.014272, 0.014321, 0.01437 , 0.014467,\n",
       "       0.014516, 0.014516, 0.014565, 0.014614, 0.014663, 0.014712,\n",
       "       0.014761, 0.014761, 0.014761, 0.014761, 0.014712, 0.014761,\n",
       "       0.014761, 0.014712, 0.014663, 0.014712, 0.014712, 0.014761,\n",
       "       0.014761, 0.014761, 0.014761, 0.014761, 0.014761, 0.014761,\n",
       "       0.014761, 0.014761, 0.014761, 0.014761, 0.014761, 0.014761,\n",
       "       0.014712, 0.014712, 0.014712, 0.014712, 0.014712, 0.014712,\n",
       "       0.014761, 0.014761, 0.014761, 0.014761, 0.014761, 0.014761,\n",
       "       0.014761, 0.014761, 0.014761, 0.014761, 0.014761, 0.014761,\n",
       "       0.014761, 0.014761, 0.014761, 0.014761, 0.014761, 0.014761,\n",
       "       0.014761, 0.014761, 0.014761, 0.014663, 0.014614, 0.014761,\n",
       "       0.014761, 0.014809, 0.014809, 0.014809, 0.014858, 0.014663,\n",
       "       0.014663, 0.014663, 0.014663, 0.014712, 0.014761, 0.014712,\n",
       "       0.014712, 0.014761, 0.014858, 0.014809, 0.014809, 0.014809,\n",
       "       0.014858, 0.014712, 0.014761, 0.014663, 0.014809, 0.014907,\n",
       "       0.014858, 0.014809, 0.014858, 0.014858, 0.014809, 0.014809,\n",
       "       0.014858, 0.014858, 0.014809, 0.014809, 0.014809, 0.014858,\n",
       "       0.014858, 0.014858, 0.014858, 0.014858, 0.014858, 0.014858,\n",
       "       0.014809, 0.014858, 0.014858, 0.014907, 0.014712, 0.014761,\n",
       "       0.014761, 0.014809, 0.014809, 0.014809, 0.014809, 0.014809,\n",
       "       0.014761, 0.014761, 0.014761, 0.014809, 0.014809, 0.014809,\n",
       "       0.014809, 0.014809, 0.014809])"
      ]
     },
     "execution_count": 35,
     "metadata": {},
     "output_type": "execute_result"
    }
   ],
   "source": [
    "i[blah]"
   ]
  },
  {
   "cell_type": "code",
   "execution_count": 41,
   "id": "6beb474f",
   "metadata": {},
   "outputs": [
    {
     "data": {
      "text/plain": [
       "array([0.00000000e+00, 0.00000000e+00, 0.00000000e+00, 0.00000000e+00,\n",
       "       0.00000000e+00, 0.00000000e+00, 0.00000000e+00, 0.00000000e+00,\n",
       "       0.00000000e+00, 0.00000000e+00, 0.00000000e+00, 0.00000000e+00,\n",
       "       0.00000000e+00, 0.00000000e+00, 0.00000000e+00, 0.00000000e+00,\n",
       "       0.00000000e+00, 0.00000000e+00, 0.00000000e+00, 0.00000000e+00,\n",
       "       0.00000000e+00, 0.00000000e+00, 0.00000000e+00, 0.00000000e+00,\n",
       "       0.00000000e+00, 0.00000000e+00, 0.00000000e+00, 0.00000000e+00,\n",
       "       0.00000000e+00, 0.00000000e+00, 0.00000000e+00, 0.00000000e+00,\n",
       "       0.00000000e+00, 0.00000000e+00, 0.00000000e+00, 0.00000000e+00,\n",
       "       0.00000000e+00, 0.00000000e+00, 0.00000000e+00, 0.00000000e+00,\n",
       "       0.00000000e+00, 0.00000000e+00, 0.00000000e+00, 0.00000000e+00,\n",
       "       0.00000000e+00, 0.00000000e+00, 0.00000000e+00, 0.00000000e+00,\n",
       "       0.00000000e+00, 0.00000000e+00, 0.00000000e+00, 0.00000000e+00,\n",
       "       0.00000000e+00, 0.00000000e+00, 0.00000000e+00, 0.00000000e+00,\n",
       "       0.00000000e+00, 0.00000000e+00, 0.00000000e+00, 0.00000000e+00,\n",
       "       0.00000000e+00, 0.00000000e+00, 0.00000000e+00, 0.00000000e+00,\n",
       "       0.00000000e+00, 0.00000000e+00, 0.00000000e+00, 0.00000000e+00,\n",
       "       0.00000000e+00, 0.00000000e+00, 0.00000000e+00, 0.00000000e+00,\n",
       "       0.00000000e+00, 0.00000000e+00, 0.00000000e+00, 0.00000000e+00,\n",
       "       0.00000000e+00, 0.00000000e+00, 0.00000000e+00, 0.00000000e+00,\n",
       "       0.00000000e+00, 0.00000000e+00, 0.00000000e+00, 0.00000000e+00,\n",
       "       0.00000000e+00, 0.00000000e+00, 0.00000000e+00, 0.00000000e+00,\n",
       "       0.00000000e+00, 0.00000000e+00, 0.00000000e+00, 0.00000000e+00,\n",
       "       0.00000000e+00, 0.00000000e+00, 0.00000000e+00, 0.00000000e+00,\n",
       "       0.00000000e+00, 0.00000000e+00, 0.00000000e+00, 0.00000000e+00,\n",
       "       0.00000000e+00, 0.00000000e+00, 0.00000000e+00, 0.00000000e+00,\n",
       "       0.00000000e+00, 0.00000000e+00, 0.00000000e+00, 0.00000000e+00,\n",
       "       0.00000000e+00, 0.00000000e+00, 0.00000000e+00, 0.00000000e+00,\n",
       "       0.00000000e+00, 0.00000000e+00, 0.00000000e+00, 0.00000000e+00,\n",
       "       0.00000000e+00, 0.00000000e+00, 0.00000000e+00, 0.00000000e+00,\n",
       "       0.00000000e+00, 0.00000000e+00, 0.00000000e+00, 0.00000000e+00,\n",
       "       0.00000000e+00, 0.00000000e+00, 0.00000000e+00, 0.00000000e+00,\n",
       "       0.00000000e+00, 0.00000000e+00, 0.00000000e+00, 0.00000000e+00,\n",
       "       0.00000000e+00, 0.00000000e+00, 0.00000000e+00, 0.00000000e+00,\n",
       "       0.00000000e+00, 0.00000000e+00, 0.00000000e+00, 0.00000000e+00,\n",
       "       0.00000000e+00, 0.00000000e+00, 0.00000000e+00, 0.00000000e+00,\n",
       "       0.00000000e+00, 0.00000000e+00, 0.00000000e+00, 0.00000000e+00,\n",
       "       0.00000000e+00, 0.00000000e+00, 0.00000000e+00, 0.00000000e+00,\n",
       "       0.00000000e+00, 0.00000000e+00, 0.00000000e+00, 0.00000000e+00,\n",
       "       0.00000000e+00, 0.00000000e+00, 0.00000000e+00, 0.00000000e+00,\n",
       "       0.00000000e+00, 0.00000000e+00, 0.00000000e+00, 0.00000000e+00,\n",
       "       0.00000000e+00, 0.00000000e+00, 0.00000000e+00, 0.00000000e+00,\n",
       "       0.00000000e+00, 0.00000000e+00, 0.00000000e+00, 0.00000000e+00,\n",
       "       0.00000000e+00, 0.00000000e+00, 0.00000000e+00, 0.00000000e+00,\n",
       "       0.00000000e+00, 0.00000000e+00, 0.00000000e+00, 0.00000000e+00,\n",
       "       0.00000000e+00, 0.00000000e+00, 0.00000000e+00, 0.00000000e+00,\n",
       "       0.00000000e+00, 0.00000000e+00, 0.00000000e+00, 0.00000000e+00,\n",
       "       0.00000000e+00, 0.00000000e+00, 0.00000000e+00, 0.00000000e+00,\n",
       "       0.00000000e+00, 0.00000000e+00, 0.00000000e+00, 0.00000000e+00,\n",
       "       0.00000000e+00, 0.00000000e+00, 0.00000000e+00, 0.00000000e+00,\n",
       "       0.00000000e+00, 0.00000000e+00, 0.00000000e+00, 0.00000000e+00,\n",
       "       0.00000000e+00, 0.00000000e+00, 0.00000000e+00, 0.00000000e+00,\n",
       "       0.00000000e+00, 0.00000000e+00, 0.00000000e+00, 0.00000000e+00,\n",
       "       0.00000000e+00, 0.00000000e+00, 0.00000000e+00, 0.00000000e+00,\n",
       "       0.00000000e+00, 0.00000000e+00, 0.00000000e+00, 0.00000000e+00,\n",
       "       0.00000000e+00, 0.00000000e+00, 0.00000000e+00, 0.00000000e+00,\n",
       "       0.00000000e+00, 0.00000000e+00, 0.00000000e+00, 0.00000000e+00,\n",
       "       0.00000000e+00, 0.00000000e+00, 0.00000000e+00, 0.00000000e+00,\n",
       "       0.00000000e+00, 0.00000000e+00, 0.00000000e+00, 0.00000000e+00,\n",
       "       0.00000000e+00, 0.00000000e+00, 0.00000000e+00, 0.00000000e+00,\n",
       "       0.00000000e+00, 0.00000000e+00, 0.00000000e+00, 0.00000000e+00,\n",
       "       0.00000000e+00, 0.00000000e+00, 0.00000000e+00, 0.00000000e+00,\n",
       "       0.00000000e+00, 0.00000000e+00, 0.00000000e+00, 0.00000000e+00,\n",
       "       0.00000000e+00, 0.00000000e+00, 0.00000000e+00, 0.00000000e+00,\n",
       "       0.00000000e+00, 0.00000000e+00, 0.00000000e+00, 0.00000000e+00,\n",
       "       0.00000000e+00, 0.00000000e+00, 0.00000000e+00, 0.00000000e+00,\n",
       "       0.00000000e+00, 0.00000000e+00, 0.00000000e+00, 0.00000000e+00,\n",
       "       0.00000000e+00, 0.00000000e+00, 0.00000000e+00, 0.00000000e+00,\n",
       "       0.00000000e+00, 0.00000000e+00, 0.00000000e+00, 0.00000000e+00,\n",
       "       0.00000000e+00, 0.00000000e+00, 0.00000000e+00, 0.00000000e+00,\n",
       "       0.00000000e+00, 0.00000000e+00, 0.00000000e+00, 0.00000000e+00,\n",
       "       0.00000000e+00, 0.00000000e+00, 0.00000000e+00, 0.00000000e+00,\n",
       "       0.00000000e+00, 0.00000000e+00, 0.00000000e+00, 0.00000000e+00,\n",
       "       0.00000000e+00, 0.00000000e+00, 0.00000000e+00, 0.00000000e+00,\n",
       "       0.00000000e+00, 0.00000000e+00, 0.00000000e+00, 0.00000000e+00,\n",
       "       0.00000000e+00, 0.00000000e+00, 0.00000000e+00, 0.00000000e+00,\n",
       "       0.00000000e+00, 0.00000000e+00, 0.00000000e+00, 0.00000000e+00,\n",
       "       0.00000000e+00, 0.00000000e+00, 0.00000000e+00, 0.00000000e+00,\n",
       "       0.00000000e+00, 0.00000000e+00, 0.00000000e+00, 0.00000000e+00,\n",
       "       0.00000000e+00, 0.00000000e+00, 0.00000000e+00, 0.00000000e+00,\n",
       "       0.00000000e+00, 0.00000000e+00, 0.00000000e+00, 0.00000000e+00,\n",
       "       0.00000000e+00, 0.00000000e+00, 0.00000000e+00, 0.00000000e+00,\n",
       "       0.00000000e+00, 0.00000000e+00, 0.00000000e+00, 0.00000000e+00,\n",
       "       0.00000000e+00, 0.00000000e+00, 0.00000000e+00, 0.00000000e+00,\n",
       "       0.00000000e+00, 0.00000000e+00, 0.00000000e+00, 0.00000000e+00,\n",
       "       0.00000000e+00, 0.00000000e+00, 0.00000000e+00, 0.00000000e+00,\n",
       "       0.00000000e+00, 4.90000000e-05, 4.90000000e-05, 4.90000000e-05,\n",
       "       4.90000000e-05, 4.90000000e-05, 4.90000000e-05, 4.90000000e-05,\n",
       "       9.79999998e-05, 9.79999998e-05, 9.79999998e-05, 1.46999999e-04,\n",
       "       1.46999999e-04, 1.95999999e-04, 1.95999999e-04, 2.43999998e-04,\n",
       "       2.43999998e-04, 2.92999996e-04, 2.92999996e-04, 3.41999993e-04,\n",
       "       3.90999990e-04, 3.90999990e-04, 3.90999990e-04, 4.39999986e-04,\n",
       "       4.88999981e-04, 5.37999974e-04, 4.88999981e-04, 5.86999966e-04,\n",
       "       5.86999966e-04, 6.34999957e-04, 6.83999947e-04, 6.83999947e-04,\n",
       "       7.32999934e-04, 7.81999920e-04, 7.81999920e-04, 8.30999904e-04,\n",
       "       8.79999886e-04, 8.79999886e-04, 9.28999866e-04, 9.77999844e-04,\n",
       "       9.77999844e-04, 1.02599982e-03, 1.07499979e-03, 1.07499979e-03,\n",
       "       1.12399976e-03, 1.17299973e-03, 1.22199970e-03, 1.27099966e-03,\n",
       "       1.31999962e-03, 1.36899957e-03, 1.41699953e-03, 1.41699953e-03,\n",
       "       1.46599947e-03, 1.51499942e-03, 1.56399936e-03, 1.61299930e-03,\n",
       "       1.66199923e-03, 1.66199923e-03, 1.71099917e-03, 1.75999909e-03,\n",
       "       1.80799901e-03, 1.85699893e-03, 1.95499875e-03, 2.00399866e-03,\n",
       "       2.05299856e-03, 2.10199845e-03, 2.15099834e-03, 2.15099834e-03,\n",
       "       2.15099834e-03, 2.19899823e-03, 2.24799811e-03, 2.29699798e-03,\n",
       "       2.34599785e-03, 2.39499771e-03, 2.39499771e-03, 2.44399757e-03,\n",
       "       2.49299742e-03, 2.54199726e-03, 2.58999710e-03, 2.63899694e-03,\n",
       "       2.68799676e-03, 2.73699658e-03, 2.73699658e-03, 2.68799676e-03,\n",
       "       2.63899694e-03, 2.68799676e-03, 2.73699658e-03, 2.83499620e-03,\n",
       "       2.83499620e-03, 2.88399600e-03, 2.93299579e-03, 2.83499620e-03,\n",
       "       2.98099558e-03, 3.07899514e-03, 3.12799490e-03, 3.17699466e-03,\n",
       "       3.17699466e-03, 3.22599440e-03, 3.27499415e-03, 3.32399388e-03,\n",
       "       3.32399388e-03, 3.37199361e-03, 3.37199361e-03, 3.46999304e-03,\n",
       "       3.51899274e-03, 3.56799243e-03, 3.61699211e-03, 3.66599179e-03,\n",
       "       3.66599179e-03, 3.71499145e-03, 3.76299112e-03, 3.81199077e-03,\n",
       "       3.86099041e-03, 3.86099041e-03, 3.95898966e-03, 3.95898966e-03,\n",
       "       4.00798927e-03, 4.05698887e-03, 4.10598846e-03, 4.15398805e-03,\n",
       "       4.20298763e-03, 4.25198719e-03, 4.25198719e-03, 4.34998628e-03,\n",
       "       4.34998628e-03, 4.44798533e-03, 4.44798533e-03, 4.44798533e-03,\n",
       "       4.49698484e-03, 4.59398384e-03, 4.54498435e-03, 4.59398384e-03,\n",
       "       4.64298332e-03, 4.69198278e-03, 4.74098224e-03, 4.78998168e-03,\n",
       "       4.83898112e-03, 4.88798054e-03, 4.88798054e-03, 4.93597996e-03,\n",
       "       4.98497935e-03, 5.03397874e-03, 5.08297811e-03, 5.13197747e-03,\n",
       "       5.13197747e-03, 5.22997616e-03, 5.18097682e-03, 5.27897548e-03,\n",
       "       5.37597410e-03, 5.42497339e-03, 5.47397266e-03, 5.52297192e-03,\n",
       "       5.57197117e-03, 5.62097040e-03, 5.71796884e-03, 5.71796884e-03,\n",
       "       5.76696803e-03, 5.81596721e-03, 5.86496638e-03, 5.91396553e-03,\n",
       "       5.96296466e-03, 6.01196378e-03, 6.06096289e-03, 6.06096289e-03,\n",
       "       6.10896200e-03, 6.15796108e-03, 6.20696014e-03, 6.25595919e-03,\n",
       "       6.30495823e-03, 6.35395724e-03, 6.35395724e-03, 6.40295625e-03,\n",
       "       6.45195524e-03, 6.49995423e-03, 6.54895319e-03, 6.59795213e-03,\n",
       "       6.64695105e-03, 6.69594996e-03, 6.69594996e-03, 6.69594996e-03,\n",
       "       6.74494886e-03, 6.79394773e-03, 6.79394773e-03, 6.84294659e-03,\n",
       "       6.89094546e-03, 6.93994429e-03, 6.98894310e-03, 7.03794190e-03,\n",
       "       7.08694068e-03, 7.13593944e-03, 7.18493818e-03, 7.23393691e-03,\n",
       "       7.28293562e-03, 7.33093433e-03, 7.37993301e-03, 7.42893167e-03,\n",
       "       7.47793030e-03, 7.52692893e-03, 7.57592753e-03, 7.57592753e-03,\n",
       "       7.62492611e-03, 7.67392468e-03, 7.72192326e-03, 7.77092179e-03,\n",
       "       7.81992030e-03, 7.86891879e-03, 7.91791726e-03, 7.96691572e-03,\n",
       "       8.01591415e-03, 8.01591415e-03, 8.06491257e-03, 8.11291100e-03,\n",
       "       8.16190938e-03, 8.21090774e-03, 8.25990607e-03, 8.30890439e-03,\n",
       "       8.35790269e-03, 8.40690097e-03, 8.40690097e-03, 8.45589923e-03,\n",
       "       8.50389750e-03, 8.55289572e-03, 8.60189392e-03, 8.65089209e-03,\n",
       "       8.69989025e-03, 8.74888839e-03, 8.74888839e-03, 8.79788650e-03,\n",
       "       8.84688459e-03, 8.89488270e-03, 8.94388075e-03, 8.99287878e-03,\n",
       "       9.04187679e-03, 9.09087478e-03, 9.13987274e-03, 9.18887068e-03,\n",
       "       9.18887068e-03, 9.23786860e-03, 9.28586655e-03, 9.33486442e-03,\n",
       "       9.38386228e-03, 9.43286011e-03, 9.48185792e-03, 9.48185792e-03,\n",
       "       9.53085570e-03, 9.57985346e-03, 9.62885120e-03, 9.67684897e-03,\n",
       "       9.72584666e-03, 9.77484433e-03, 9.82384198e-03, 9.87283960e-03,\n",
       "       9.92183720e-03, 9.97083478e-03, 1.00198323e-02, 1.00198323e-02,\n",
       "       1.00678299e-02, 1.01168274e-02, 1.01658249e-02, 1.02148224e-02,\n",
       "       1.02638198e-02, 1.03128172e-02, 1.03128172e-02, 1.03618146e-02,\n",
       "       1.04108119e-02, 1.04588093e-02, 1.05078066e-02, 1.05568039e-02,\n",
       "       1.06058012e-02, 1.06547984e-02, 1.07037956e-02, 1.07527928e-02,\n",
       "       1.07527928e-02, 1.08017899e-02, 1.08497871e-02, 1.08987842e-02,\n",
       "       1.09477813e-02, 1.09967783e-02, 1.10457754e-02, 1.10947724e-02,\n",
       "       1.11437693e-02, 1.11927663e-02, 1.11927663e-02, 1.12407633e-02,\n",
       "       1.12897602e-02, 1.13387570e-02, 1.13877539e-02, 1.14367507e-02,\n",
       "       1.14857474e-02, 1.15347442e-02, 1.15347442e-02, 1.15347442e-02,\n",
       "       1.15347442e-02, 1.15837409e-02, 1.16317377e-02, 1.16807344e-02,\n",
       "       1.17787276e-02, 1.18277242e-02, 1.18767208e-02, 1.19257173e-02,\n",
       "       1.19747138e-02, 1.20227103e-02, 1.20717068e-02, 1.21207032e-02,\n",
       "       1.21696996e-02, 1.22186959e-02, 1.22676923e-02, 1.23166886e-02,\n",
       "       1.23656848e-02, 1.23656848e-02, 1.24626774e-02, 1.25606697e-02,\n",
       "       1.26096658e-02, 1.26586619e-02, 1.27076580e-02, 1.27566540e-02,\n",
       "       1.28046501e-02, 1.28536460e-02, 1.29026420e-02, 1.29516379e-02,\n",
       "       1.30006338e-02, 1.30496296e-02, 1.30496296e-02, 1.30986254e-02,\n",
       "       1.31476212e-02, 1.32446127e-02, 1.32446127e-02, 1.32936084e-02,\n",
       "       1.33426041e-02, 1.33915997e-02, 1.34405953e-02, 1.34895909e-02,\n",
       "       1.35385864e-02, 1.35865820e-02, 1.36355774e-02, 1.36355774e-02,\n",
       "       1.37335682e-02, 1.37825636e-02, 1.37825636e-02, 1.38315589e-02,\n",
       "       1.38805542e-02, 1.39295495e-02, 1.39775448e-02, 1.40265400e-02,\n",
       "       1.40755352e-02, 1.41245303e-02, 1.41735254e-02, 1.41245303e-02,\n",
       "       1.41245303e-02, 1.41245303e-02, 1.41735254e-02, 1.41735254e-02,\n",
       "       1.41735254e-02, 1.42225205e-02, 1.42715155e-02, 1.43205105e-02,\n",
       "       1.43695054e-02, 1.44664954e-02, 1.45154902e-02, 1.45154902e-02,\n",
       "       1.45644850e-02, 1.46134798e-02, 1.46624746e-02, 1.47114693e-02,\n",
       "       1.47604640e-02, 1.47604640e-02, 1.47604640e-02, 1.47604640e-02,\n",
       "       1.47114693e-02, 1.47604640e-02, 1.47604640e-02, 1.47114693e-02,\n",
       "       1.46624746e-02, 1.47114693e-02, 1.47114693e-02, 1.47604640e-02,\n",
       "       1.47604640e-02, 1.47604640e-02, 1.47604640e-02, 1.47604640e-02,\n",
       "       1.47604640e-02, 1.47604640e-02, 1.47604640e-02, 1.47604640e-02,\n",
       "       1.47604640e-02, 1.47604640e-02, 1.47604640e-02, 1.47604640e-02,\n",
       "       1.47114693e-02, 1.47114693e-02, 1.47114693e-02, 1.47114693e-02,\n",
       "       1.47114693e-02, 1.47114693e-02, 1.47604640e-02, 1.47604640e-02,\n",
       "       1.47604640e-02, 1.47604640e-02, 1.47604640e-02, 1.47604640e-02,\n",
       "       1.47604640e-02, 1.47604640e-02, 1.47604640e-02, 1.47604640e-02,\n",
       "       1.47604640e-02, 1.47604640e-02, 1.47604640e-02, 1.47604640e-02,\n",
       "       1.47604640e-02, 1.47604640e-02, 1.47604640e-02, 1.47604640e-02,\n",
       "       1.47604640e-02, 1.47604640e-02, 1.47604640e-02, 1.46624746e-02,\n",
       "       1.46134798e-02, 1.47604640e-02, 1.47604640e-02, 1.48084587e-02,\n",
       "       1.48084587e-02, 1.48084587e-02, 1.48574533e-02, 1.46624746e-02,\n",
       "       1.46624746e-02, 1.46624746e-02, 1.46624746e-02, 1.47114693e-02,\n",
       "       1.47604640e-02, 1.47114693e-02, 1.47114693e-02, 1.47604640e-02,\n",
       "       1.48574533e-02, 1.48084587e-02, 1.48084587e-02, 1.48084587e-02,\n",
       "       1.48574533e-02, 1.47114693e-02, 1.47604640e-02, 1.46624746e-02,\n",
       "       1.48084587e-02, 1.49064479e-02, 1.48574533e-02, 1.48084587e-02,\n",
       "       1.48574533e-02, 1.48574533e-02, 1.48084587e-02, 1.48084587e-02,\n",
       "       1.48574533e-02, 1.48574533e-02, 1.48084587e-02, 1.48084587e-02,\n",
       "       1.48084587e-02, 1.48574533e-02, 1.48574533e-02, 1.48574533e-02,\n",
       "       1.48574533e-02, 1.48574533e-02, 1.48574533e-02, 1.48574533e-02,\n",
       "       1.48084587e-02, 1.48574533e-02, 1.48574533e-02, 1.49064479e-02,\n",
       "       1.47114693e-02, 1.47604640e-02, 1.47604640e-02, 1.48084587e-02,\n",
       "       1.48084587e-02, 1.48084587e-02, 1.48084587e-02, 1.48084587e-02,\n",
       "       1.47604640e-02, 1.47604640e-02, 1.47604640e-02, 1.48084587e-02,\n",
       "       1.48084587e-02, 1.48084587e-02, 1.48084587e-02, 1.48084587e-02,\n",
       "       1.48084587e-02])"
      ]
     },
     "execution_count": 41,
     "metadata": {},
     "output_type": "execute_result"
    }
   ],
   "source": [
    "np.sin(i)"
   ]
  },
  {
   "cell_type": "markdown",
   "id": "500f9a78",
   "metadata": {},
   "source": [
    "> Array opertation (broadcasting)\n",
    "~~~\n",
    "i*v - multiplies values of i and v element by element\n",
    "~~~"
   ]
  },
  {
   "cell_type": "code",
   "execution_count": null,
   "id": "4c33be6d",
   "metadata": {},
   "outputs": [],
   "source": []
  },
  {
   "cell_type": "code",
   "execution_count": 46,
   "id": "39e8555a",
   "metadata": {},
   "outputs": [
    {
     "data": {
      "text/plain": [
       "13.314158396383998"
      ]
     },
     "execution_count": 46,
     "metadata": {},
     "output_type": "execute_result"
    }
   ],
   "source": [
    "m = i*v\n",
    "m.sum()"
   ]
  },
  {
   "cell_type": "code",
   "execution_count": 52,
   "id": "10e86bc3",
   "metadata": {},
   "outputs": [],
   "source": [
    "#i*[1,2,3,4]\n",
    "#np.arange(0,5)"
   ]
  },
  {
   "cell_type": "code",
   "execution_count": 51,
   "id": "352ddb09",
   "metadata": {},
   "outputs": [],
   "source": [
    "#i*np.arange(0,len(i))\n"
   ]
  },
  {
   "cell_type": "code",
   "execution_count": 61,
   "id": "0baa6a72",
   "metadata": {},
   "outputs": [],
   "source": [
    "def int_trapz(y,x):\n",
    "    \"\"\" \n",
    "    This a doc string. Shows array indexing\n",
    "    \n",
    "    Integrates y using trapezoidal approximation\n",
    "    \n",
    "    y = array of numeric values to integrate\n",
    "    \n",
    "    x = array of numeric sample points correspoding to the y values\n",
    "    \n",
    "    returns - float definite integral of y over the defined range of x-vlues\n",
    "    \"\"\" \n",
    "    ya = y[None:-1]        # slicing example \n",
    "    yb = y[1:None]\n",
    "    tz = (ya + yb) / 2.0   # calculate height of all trapezoids\n",
    "    dx = np.ediff1d(x)\n",
    "    return (tz * dx).sum() # broadcasting example"
   ]
  },
  {
   "cell_type": "code",
   "execution_count": 62,
   "id": "2294f6a6",
   "metadata": {},
   "outputs": [],
   "source": [
    "x = np.array([1,2,3,4,5])\n",
    "y = np.array([0,3.5,4.5,6.7,8.0])"
   ]
  },
  {
   "cell_type": "code",
   "execution_count": 63,
   "id": "9c689b06",
   "metadata": {},
   "outputs": [
    {
     "name": "stdout",
     "output_type": "stream",
     "text": [
      "18.7\n"
     ]
    },
    {
     "data": {
      "image/png": "[encoded data removed]",
      "text/plain": [
       "<Figure size 640x480 with 1 Axes>"
      ]
     },
     "metadata": {},
     "output_type": "display_data"
    }
   ],
   "source": [
    "plt.plot(x,y)\n",
    "print(int_trapz(y,x))"
   ]
  },
  {
   "cell_type": "code",
   "execution_count": 64,
   "id": "d36a862a",
   "metadata": {},
   "outputs": [
    {
     "data": {
      "text/plain": [
       "array([1, 1, 1, 1])"
      ]
     },
     "execution_count": 64,
     "metadata": {},
     "output_type": "execute_result"
    }
   ],
   "source": [
    "dx = np.ediff1d(x)\n",
    "dx"
   ]
  },
  {
   "cell_type": "code",
   "execution_count": 65,
   "id": "4bdbded7",
   "metadata": {},
   "outputs": [
    {
     "data": {
      "text/plain": [
       "18.7"
      ]
     },
     "execution_count": 65,
     "metadata": {},
     "output_type": "execute_result"
    }
   ],
   "source": [
    "np.trapz(y,x)"
   ]
  },
  {
   "cell_type": "code",
   "execution_count": null,
   "id": "5a2cca44",
   "metadata": {},
   "outputs": [],
   "source": []
  },
  {
   "cell_type": "code",
   "execution_count": null,
   "id": "7411bc91",
   "metadata": {},
   "outputs": [],
   "source": []
  },
  {
   "cell_type": "code",
   "execution_count": null,
   "id": "b0b99120",
   "metadata": {},
   "outputs": [],
   "source": []
  },
  {
   "cell_type": "code",
   "execution_count": null,
   "id": "29d38e64",
   "metadata": {},
   "outputs": [],
   "source": []
  },
  {
   "cell_type": "code",
   "execution_count": null,
   "id": "5862f708",
   "metadata": {},
   "outputs": [],
   "source": []
  },
  {
   "cell_type": "code",
   "execution_count": null,
   "id": "68934551",
   "metadata": {},
   "outputs": [],
   "source": []
  }
 ],
 "metadata": {
  "kernelspec": {
   "display_name": "Python 3 (ipykernel)",
   "language": "python",
   "name": "python3"
  },
  "language_info": {
   "codemirror_mode": {
    "name": "ipython",
    "version": 3
   },
   "file_extension": ".py",
   "mimetype": "text/x-python",
   "name": "python",
   "nbconvert_exporter": "python",
   "pygments_lexer": "ipython3",
   "version": "3.11.4"
  },
  "varInspector": {
   "cols": {
    "lenName": 16,
    "lenType": 16,
    "lenVar": 40
   },
   "kernels_config": {
    "python": {
     "delete_cmd_postfix": "",
     "delete_cmd_prefix": "del ",
     "library": "var_list.py",
     "varRefreshCmd": "print(var_dic_list())"
    },
    "r": {
     "delete_cmd_postfix": ") ",
     "delete_cmd_prefix": "rm(",
     "library": "var_list.r",
     "varRefreshCmd": "cat(var_dic_list()) "
    }
   },
   "position": {
    "height": "143.47825622558594px",
    "left": "888.1739501953125px",
    "right": "20px",
    "top": "36.00000762939453px",
    "width": "350px"
   },
   "types_to_exclude": [
    "module",
    "function",
    "builtin_function_or_method",
    "instance",
    "_Feature"
   ],
   "window_display": true
  }
 },
 "nbformat": 4,
 "nbformat_minor": 5
}
