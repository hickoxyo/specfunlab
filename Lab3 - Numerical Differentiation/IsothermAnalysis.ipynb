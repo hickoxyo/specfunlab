{
 "cells": [
  {
   "cell_type": "markdown",
   "metadata": {},
   "source": [
    "### Example code for data processing \n",
    "#### *Author: Ben Stottrup*\n",
    "- Data is read from an excel file using pandas in a data frame\n",
    "- Examine the data received to see what it looks like\n",
    "- Convert the data frame to a numpy array for further processing\n",
    "- Attempt to process data"
   ]
  },
  {
   "cell_type": "code",
   "execution_count": 1,
   "metadata": {},
   "outputs": [],
   "source": [
    "#   Python uses a bunch of different packages -library's of pre-build functions.\n",
    "#   to use them we need to load them into the memory\n",
    "\n",
    "import numpy as np  #loads and renames numpy.  This is the Python workhorse tool for math\n",
    "import pandas as pd #loads pandas.  A workhorse tool for data and data manipulation\n",
    "import matplotlib.pyplot as plt #Loads the standard Graphing Package -simiar to Matlab\n",
    "%matplotlib inline"
   ]
  },
  {
   "cell_type": "code",
   "execution_count": 2,
   "metadata": {
    "scrolled": true
   },
   "outputs": [
    {
     "ename": "FileNotFoundError",
     "evalue": "[Errno 2] No such file or directory: '../../DATA/Exp2.xls'",
     "output_type": "error",
     "traceback": [
      "\u001b[1;31m---------------------------------------------------------------------------\u001b[0m",
      "\u001b[1;31mFileNotFoundError\u001b[0m                         Traceback (most recent call last)",
      "Cell \u001b[1;32mIn[2], line 5\u001b[0m\n\u001b[0;32m      1\u001b[0m \u001b[38;5;66;03m#   This is a chunk of code to condition the data to be manipulated.\u001b[39;00m\n\u001b[0;32m      2\u001b[0m \u001b[38;5;66;03m#   There are probably better ways to do it, but this keeps things simple\u001b[39;00m\n\u001b[0;32m      3\u001b[0m \u001b[38;5;66;03m#   And consistent with how a student might conceptulaize things from Excel.\u001b[39;00m\n\u001b[1;32m----> 5\u001b[0m Isotherm_Data \u001b[38;5;241m=\u001b[39m pd\u001b[38;5;241m.\u001b[39mread_excel(\u001b[38;5;124m\"\u001b[39m\u001b[38;5;124m../../DATA/Exp2.xls\u001b[39m\u001b[38;5;124m\"\u001b[39m) \u001b[38;5;66;03m#Loads a EXCEL file\u001b[39;00m\n\u001b[0;32m      6\u001b[0m Isotherm_Data\u001b[38;5;241m.\u001b[39mhead()\n",
      "File \u001b[1;32m~\\anaconda3\\Lib\\site-packages\\pandas\\util\\_decorators.py:211\u001b[0m, in \u001b[0;36mdeprecate_kwarg.<locals>._deprecate_kwarg.<locals>.wrapper\u001b[1;34m(*args, **kwargs)\u001b[0m\n\u001b[0;32m    209\u001b[0m     \u001b[38;5;28;01melse\u001b[39;00m:\n\u001b[0;32m    210\u001b[0m         kwargs[new_arg_name] \u001b[38;5;241m=\u001b[39m new_arg_value\n\u001b[1;32m--> 211\u001b[0m \u001b[38;5;28;01mreturn\u001b[39;00m func(\u001b[38;5;241m*\u001b[39margs, \u001b[38;5;241m*\u001b[39m\u001b[38;5;241m*\u001b[39mkwargs)\n",
      "File \u001b[1;32m~\\anaconda3\\Lib\\site-packages\\pandas\\util\\_decorators.py:331\u001b[0m, in \u001b[0;36mdeprecate_nonkeyword_arguments.<locals>.decorate.<locals>.wrapper\u001b[1;34m(*args, **kwargs)\u001b[0m\n\u001b[0;32m    325\u001b[0m \u001b[38;5;28;01mif\u001b[39;00m \u001b[38;5;28mlen\u001b[39m(args) \u001b[38;5;241m>\u001b[39m num_allow_args:\n\u001b[0;32m    326\u001b[0m     warnings\u001b[38;5;241m.\u001b[39mwarn(\n\u001b[0;32m    327\u001b[0m         msg\u001b[38;5;241m.\u001b[39mformat(arguments\u001b[38;5;241m=\u001b[39m_format_argument_list(allow_args)),\n\u001b[0;32m    328\u001b[0m         \u001b[38;5;167;01mFutureWarning\u001b[39;00m,\n\u001b[0;32m    329\u001b[0m         stacklevel\u001b[38;5;241m=\u001b[39mfind_stack_level(),\n\u001b[0;32m    330\u001b[0m     )\n\u001b[1;32m--> 331\u001b[0m \u001b[38;5;28;01mreturn\u001b[39;00m func(\u001b[38;5;241m*\u001b[39margs, \u001b[38;5;241m*\u001b[39m\u001b[38;5;241m*\u001b[39mkwargs)\n",
      "File \u001b[1;32m~\\anaconda3\\Lib\\site-packages\\pandas\\io\\excel\\_base.py:482\u001b[0m, in \u001b[0;36mread_excel\u001b[1;34m(io, sheet_name, header, names, index_col, usecols, squeeze, dtype, engine, converters, true_values, false_values, skiprows, nrows, na_values, keep_default_na, na_filter, verbose, parse_dates, date_parser, thousands, decimal, comment, skipfooter, convert_float, mangle_dupe_cols, storage_options)\u001b[0m\n\u001b[0;32m    480\u001b[0m \u001b[38;5;28;01mif\u001b[39;00m \u001b[38;5;129;01mnot\u001b[39;00m \u001b[38;5;28misinstance\u001b[39m(io, ExcelFile):\n\u001b[0;32m    481\u001b[0m     should_close \u001b[38;5;241m=\u001b[39m \u001b[38;5;28;01mTrue\u001b[39;00m\n\u001b[1;32m--> 482\u001b[0m     io \u001b[38;5;241m=\u001b[39m ExcelFile(io, storage_options\u001b[38;5;241m=\u001b[39mstorage_options, engine\u001b[38;5;241m=\u001b[39mengine)\n\u001b[0;32m    483\u001b[0m \u001b[38;5;28;01melif\u001b[39;00m engine \u001b[38;5;129;01mand\u001b[39;00m engine \u001b[38;5;241m!=\u001b[39m io\u001b[38;5;241m.\u001b[39mengine:\n\u001b[0;32m    484\u001b[0m     \u001b[38;5;28;01mraise\u001b[39;00m \u001b[38;5;167;01mValueError\u001b[39;00m(\n\u001b[0;32m    485\u001b[0m         \u001b[38;5;124m\"\u001b[39m\u001b[38;5;124mEngine should not be specified when passing \u001b[39m\u001b[38;5;124m\"\u001b[39m\n\u001b[0;32m    486\u001b[0m         \u001b[38;5;124m\"\u001b[39m\u001b[38;5;124man ExcelFile - ExcelFile already has the engine set\u001b[39m\u001b[38;5;124m\"\u001b[39m\n\u001b[0;32m    487\u001b[0m     )\n",
      "File \u001b[1;32m~\\anaconda3\\Lib\\site-packages\\pandas\\io\\excel\\_base.py:1652\u001b[0m, in \u001b[0;36mExcelFile.__init__\u001b[1;34m(self, path_or_buffer, engine, storage_options)\u001b[0m\n\u001b[0;32m   1650\u001b[0m     ext \u001b[38;5;241m=\u001b[39m \u001b[38;5;124m\"\u001b[39m\u001b[38;5;124mxls\u001b[39m\u001b[38;5;124m\"\u001b[39m\n\u001b[0;32m   1651\u001b[0m \u001b[38;5;28;01melse\u001b[39;00m:\n\u001b[1;32m-> 1652\u001b[0m     ext \u001b[38;5;241m=\u001b[39m inspect_excel_format(\n\u001b[0;32m   1653\u001b[0m         content_or_path\u001b[38;5;241m=\u001b[39mpath_or_buffer, storage_options\u001b[38;5;241m=\u001b[39mstorage_options\n\u001b[0;32m   1654\u001b[0m     )\n\u001b[0;32m   1655\u001b[0m     \u001b[38;5;28;01mif\u001b[39;00m ext \u001b[38;5;129;01mis\u001b[39;00m \u001b[38;5;28;01mNone\u001b[39;00m:\n\u001b[0;32m   1656\u001b[0m         \u001b[38;5;28;01mraise\u001b[39;00m \u001b[38;5;167;01mValueError\u001b[39;00m(\n\u001b[0;32m   1657\u001b[0m             \u001b[38;5;124m\"\u001b[39m\u001b[38;5;124mExcel file format cannot be determined, you must specify \u001b[39m\u001b[38;5;124m\"\u001b[39m\n\u001b[0;32m   1658\u001b[0m             \u001b[38;5;124m\"\u001b[39m\u001b[38;5;124man engine manually.\u001b[39m\u001b[38;5;124m\"\u001b[39m\n\u001b[0;32m   1659\u001b[0m         )\n",
      "File \u001b[1;32m~\\anaconda3\\Lib\\site-packages\\pandas\\io\\excel\\_base.py:1525\u001b[0m, in \u001b[0;36minspect_excel_format\u001b[1;34m(content_or_path, storage_options)\u001b[0m\n\u001b[0;32m   1522\u001b[0m \u001b[38;5;28;01mif\u001b[39;00m \u001b[38;5;28misinstance\u001b[39m(content_or_path, \u001b[38;5;28mbytes\u001b[39m):\n\u001b[0;32m   1523\u001b[0m     content_or_path \u001b[38;5;241m=\u001b[39m BytesIO(content_or_path)\n\u001b[1;32m-> 1525\u001b[0m \u001b[38;5;28;01mwith\u001b[39;00m get_handle(\n\u001b[0;32m   1526\u001b[0m     content_or_path, \u001b[38;5;124m\"\u001b[39m\u001b[38;5;124mrb\u001b[39m\u001b[38;5;124m\"\u001b[39m, storage_options\u001b[38;5;241m=\u001b[39mstorage_options, is_text\u001b[38;5;241m=\u001b[39m\u001b[38;5;28;01mFalse\u001b[39;00m\n\u001b[0;32m   1527\u001b[0m ) \u001b[38;5;28;01mas\u001b[39;00m handle:\n\u001b[0;32m   1528\u001b[0m     stream \u001b[38;5;241m=\u001b[39m handle\u001b[38;5;241m.\u001b[39mhandle\n\u001b[0;32m   1529\u001b[0m     stream\u001b[38;5;241m.\u001b[39mseek(\u001b[38;5;241m0\u001b[39m)\n",
      "File \u001b[1;32m~\\anaconda3\\Lib\\site-packages\\pandas\\io\\common.py:865\u001b[0m, in \u001b[0;36mget_handle\u001b[1;34m(path_or_buf, mode, encoding, compression, memory_map, is_text, errors, storage_options)\u001b[0m\n\u001b[0;32m    856\u001b[0m         handle \u001b[38;5;241m=\u001b[39m \u001b[38;5;28mopen\u001b[39m(\n\u001b[0;32m    857\u001b[0m             handle,\n\u001b[0;32m    858\u001b[0m             ioargs\u001b[38;5;241m.\u001b[39mmode,\n\u001b[1;32m   (...)\u001b[0m\n\u001b[0;32m    861\u001b[0m             newline\u001b[38;5;241m=\u001b[39m\u001b[38;5;124m\"\u001b[39m\u001b[38;5;124m\"\u001b[39m,\n\u001b[0;32m    862\u001b[0m         )\n\u001b[0;32m    863\u001b[0m     \u001b[38;5;28;01melse\u001b[39;00m:\n\u001b[0;32m    864\u001b[0m         \u001b[38;5;66;03m# Binary mode\u001b[39;00m\n\u001b[1;32m--> 865\u001b[0m         handle \u001b[38;5;241m=\u001b[39m \u001b[38;5;28mopen\u001b[39m(handle, ioargs\u001b[38;5;241m.\u001b[39mmode)\n\u001b[0;32m    866\u001b[0m     handles\u001b[38;5;241m.\u001b[39mappend(handle)\n\u001b[0;32m    868\u001b[0m \u001b[38;5;66;03m# Convert BytesIO or file objects passed with an encoding\u001b[39;00m\n",
      "\u001b[1;31mFileNotFoundError\u001b[0m: [Errno 2] No such file or directory: '../../DATA/Exp2.xls'"
     ]
    }
   ],
   "source": [
    "#   This is a chunk of code to condition the data to be manipulated.\n",
    "#   There are probably better ways to do it, but this keeps things simple\n",
    "#   And consistent with how a student might conceptulaize things from Excel.\n",
    "\n",
    "Isotherm_Data = pd.read_excel(\"../../DATA/Exp2.xls\") #Loads a EXCEL file\n",
    "Isotherm_Data.head()"
   ]
  },
  {
   "cell_type": "code",
   "execution_count": null,
   "metadata": {},
   "outputs": [],
   "source": [
    "DATA = np.array(Isotherm_Data) # Converts the data into numbers and a vector for manipulation\n",
    "Time = DATA[:,0]   ##Slicing DATA up into single vectors.\n",
    "Trough_Area = DATA[:,1] ##Slicing DATA up into single vectors.\n",
    "Mol_Area = DATA[:,2] ##Slicing DATA up into single vectors.\n",
    "Pressure = DATA[:,5]## Slicing DATA up into a single vector of pressure.\n",
    "print(DATA.dtype, Time.dtype, Trough_Area.dtype, Mol_Area.dtype, Pressure.dtype)"
   ]
  },
  {
   "cell_type": "code",
   "execution_count": null,
   "metadata": {},
   "outputs": [],
   "source": [
    "#   Now to slice off all of the data which happens after the maximimum pressure is reached.\n",
    "#   This might not be \"pythonic\" but it gives clear names to the data we are working with.\n",
    "#  In the case of these experiments we are adding 40 indices to capture a final movie\n",
    "\n",
    "index_max = np.argmax(Pressure)+40  \n",
    "Time = Time[0:index_max]\n",
    "Trough_Area = Trough_Area[0:index_max]\n",
    "Mol_Area = Mol_Area[0:index_max]\n",
    "Pressure = Pressure[0:index_max]"
   ]
  },
  {
   "cell_type": "code",
   "execution_count": null,
   "metadata": {},
   "outputs": [],
   "source": [
    "#   In the routine below we try to find those times when the trough was stopped\n",
    "#   We are using the differences between adjacent area and pressures.\n",
    "\n",
    "Diff_MA = np.diff(Mol_Area)\n",
    "Diff_Pres = np.diff(Pressure)\n",
    "#Diff_ind = np.zeros(len(Diff_MA))    !!!\n",
    "Pres_val = np.zeros(len(Diff_MA))   #  Defining this array using the np.zeros() function.\n",
    "Area_val = np.zeros(len(Diff_MA))\n",
    "\n",
    "count = 0\n",
    "while (count < len(Diff_MA)):\n",
    "#    if Diff_MA[count] > .15 and Diff_Pres[count] < 0.1 and Pressure[count] > 1:  !!!\n",
    "    if Diff_Pres[count] < 0.1 and Pressure[count] > 1 and Diff_MA[count] > .15 and Pressure[count] > Pressure[count+1]:\n",
    " #      Diff_ind[count] = count    !!!\n",
    "       Pres_val[count] = Pressure[count]\n",
    "       Area_val[count] = Time[count]\n",
    "       count += 1\n",
    "    else: \n",
    "        count += 1\n",
    "       \n",
    "Stop_Pres = Pres_val[Pres_val != 0]\n",
    "Stop_Area = Area_val[Area_val != 0]   #   This command clears out the zeros (place holders for compressing troughs)\n",
    "Stop_Pres_Diff = np.diff(Stop_Pres)   #   Finds the differences between our \"stopping pressures\" to clean these values\n",
    "\n",
    "count = 0   #  Resets a counter\n",
    "Ave_Pres = []    # because I don't now how big this array should be I will treat it as a list.\n",
    "Stopping_Pressure = []   # same.\n",
    "Ave_Area = []\n",
    "Stopping_Area = []\n",
    "\n",
    "while (count < len(Stop_Pres_Diff)):\n",
    "    if np.absolute(Stop_Pres_Diff[count]) < .5:   #  Testing if true stop\n",
    "        Ave_Pres.append(Stop_Pres[count])    # appending a value to the lsit\n",
    "        Ave_Area.append(Stop_Area[count])\n",
    "        count += 1\n",
    "    else:\n",
    "        SP = np.mean(np.array(Ave_Pres))   # we no longer are within the stop, hence we calculate the mean pressures\n",
    "        SA = np.mean(np.array(Ave_Area))\n",
    "        Ave_Pres = []     #  we clear the list for the next iteration\n",
    "        Ave_Area = []\n",
    "        Stopping_Pressure.append(SP)    # We append the complete average of our stopping pressure\n",
    "        Stopping_Area.append(SA)\n",
    "        count += 1\n",
    "            \n",
    "SP = np.mean(np.array(Ave_Pres))  # A final append for the last iteration\n",
    "Stopping_Pressure.append(SP)\n",
    "SA = np.mean(np.array(Ave_Area))\n",
    "Stopping_Area.append(SA)   "
   ]
  },
  {
   "cell_type": "code",
   "execution_count": null,
   "metadata": {},
   "outputs": [],
   "source": [
    "#  We have a list, and can't to algebra on it as easily.\n",
    "#  So what we do is we convert to numpy arrays\n",
    "\n",
    "Stopping_Pressure = np.array(Stopping_Pressure)\n",
    "Final_Pressures = Stopping_Pressure[Stopping_Pressure > 0]\n",
    "Stopping_Time = np.array(Stopping_Area)\n",
    "Final_Times = Stopping_Time[Stopping_Time > 0]"
   ]
  },
  {
   "cell_type": "code",
   "execution_count": null,
   "metadata": {},
   "outputs": [],
   "source": [
    "#   Creating a plot to check the results.\n",
    "#   This plots the values that were ultimately extracted for pauses\n",
    "#   in the compression.\n",
    "plt.plot(Time, Pressure)\n",
    "plt.plot(Time[:-1], Pres_val )\n",
    "plt.plot(Final_Times, Final_Pressures, 'g*', MarkerSize=10)"
   ]
  },
  {
   "cell_type": "code",
   "execution_count": null,
   "metadata": {},
   "outputs": [],
   "source": []
  }
 ],
 "metadata": {
  "kernelspec": {
   "display_name": "Python 3 (ipykernel)",
   "language": "python",
   "name": "python3"
  },
  "language_info": {
   "codemirror_mode": {
    "name": "ipython",
    "version": 3
   },
   "file_extension": ".py",
   "mimetype": "text/x-python",
   "name": "python",
   "nbconvert_exporter": "python",
   "pygments_lexer": "ipython3",
   "version": "3.11.4"
  },
  "varInspector": {
   "cols": {
    "lenName": 16,
    "lenType": 16,
    "lenVar": 40
   },
   "kernels_config": {
    "python": {
     "delete_cmd_postfix": "",
     "delete_cmd_prefix": "del ",
     "library": "var_list.py",
     "varRefreshCmd": "print(var_dic_list())"
    },
    "r": {
     "delete_cmd_postfix": ") ",
     "delete_cmd_prefix": "rm(",
     "library": "var_list.r",
     "varRefreshCmd": "cat(var_dic_list()) "
    }
   },
   "types_to_exclude": [
    "module",
    "function",
    "builtin_function_or_method",
    "instance",
    "_Feature"
   ],
   "window_display": true
  }
 },
 "nbformat": 4,
 "nbformat_minor": 2
}
