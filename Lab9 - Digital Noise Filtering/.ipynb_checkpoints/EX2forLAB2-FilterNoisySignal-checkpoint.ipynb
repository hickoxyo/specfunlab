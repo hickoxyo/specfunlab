{
 "cells": [
  {
   "cell_type": "markdown",
   "id": "fd035f89",
   "metadata": {},
   "source": [
    "### Create noisy signal and filter it - EXAMPLE2 for LAB2\n",
    "\n",
    "#### There are two parts\n",
    "\n",
    "<ul>\n",
    "  <li>Part1 - create noisy signal</li>\n",
    "  <li>Part2 - flter the signal</li>\n",
    "</ul>\n",
    "\n",
    "#### Part 1 - create noisy signal and play it as audio\n",
    "\n",
    "Creates two wave files. The first is pure sine wave of a given frequency,\n",
    "and the second is a sine wave with random gaussion signal (noise) added to it.\n",
    "The two wave files are played as audio signals.\n",
    "\n",
    "#### Part 2 - remove noise from the signal (filter using fft)\n",
    "\n",
    "Use fft methods from scipy.fftpack to flter the noisy signal to remove noise\n",
    "\n",
    "> **NOTE:** This program uses the MAC OS command \"afplay\" to play the wave files.\n",
    "> This may not work on all systems including Windows if afplay is not available on the OS.\n",
    "> The program also creates wave files in a local folder. On you system set the absolute path of\n",
    "> the folder in the DPATH variable below\n",
    "> Windows example: DPATH = r'C:\\myhome\\PHY327L\\DATA\\'\n",
    "\n",
    "[MarkdownLink] <https://www.markdownguide.org/basic-syntax/>"
   ]
  },
  {
   "cell_type": "code",
   "execution_count": null,
   "id": "af27e1f7",
   "metadata": {},
   "outputs": [],
   "source": [
    "import numpy as np\n",
    "from scipy.io import wavfile\n",
    "from scipy import fftpack as ft\n",
    "import subprocess\n",
    "import os\n",
    "import wave\n",
    "import matplotlib.pyplot as plt"
   ]
  },
  {
   "cell_type": "code",
   "execution_count": null,
   "id": "a0fa7759",
   "metadata": {},
   "outputs": [],
   "source": [
    "# Play a wave file\n",
    "def playWave(wfile):\n",
    "    # runs the os command \"afplay\" to play wfile. Wfile can be a wav or MP3 file\n",
    "    return_code = subprocess.call([\"afplay\", wfile])"
   ]
  },
  {
   "cell_type": "markdown",
   "id": "e6749842",
   "metadata": {},
   "source": [
    "#### Part 1 - create noisy signal"
   ]
  },
  {
   "cell_type": "code",
   "execution_count": null,
   "id": "f323dba0",
   "metadata": {},
   "outputs": [],
   "source": [
    "# constants defining the sine wave frequency, sample-rate, and sound file duration in seconds\n",
    "sampleRate = 44100\n",
    "# frequency Hz\n",
    "frequency440 = 440\n",
    "frequency880 = 880\n",
    "\n",
    "# audio duration in secondss\n",
    "length = 5\n",
    "\n",
    "# define the directory path where wav file will be stored\n",
    "FPATH = os.getcwd()\n",
    "DPATH = FPATH + '/../../DATA/'\n",
    "DPATH = r\"C:\\\\Users\\\\dhick\\\\OneDrive\\\\Documents\\\\AugsburgUniversity\\\\PHY327L_S24\\\\DATA\\\\\"\n",
    "\n",
    "# create sine signal\n",
    "t = np.linspace(0, length, sampleRate * length)  #  Produces a 5 second Audio-File\n",
    "signal440 = np.sin(frequency440 * 2 * np.pi * t)  #  Has frequency of 440Hz\n",
    "signal880 = np.sin(frequency880 * 2 * np.pi * t)\n",
    "\n",
    "# write and play file\n",
    "soundwave = np.around((signal440+1)*255/2)\n",
    "soundwave = soundwave.astype(int)\n",
    "\n",
    "SFILE = DPATH + 'Sine.wav'\n",
    "with wave.open(SFILE, mode=\"wb\") as wav_file:\n",
    "    wav_file.setnchannels(1)\n",
    "    wav_file.setsampwidth(1)\n",
    "    wav_file.setframerate(sampleRate)\n",
    "    wav_file.writeframes(bytes(signal440.astype(int)))\n",
    "#wavfile.write(SFILE, sampleRate, signal440)\n",
    "#playWave(SFILE)\n",
    "\n",
    "# generate Gaussian noise\n",
    "sdev = .1 # standard deviation\n",
    "m = 0 # mean\n",
    "\n",
    "# create noisy signal\n",
    "noise = np.random.normal(m, sdev, signal440.size)\n",
    "signalNoisy440 = signal440 + noise\n",
    "# signalNoisy880 = signal880 + noise\n",
    "plt.figure(figsize=(10,3))\n",
    "plt.subplot(1,2,1)\n",
    "plt.plot(signal440[0:1000])\n",
    "plt.title('Pure Signal')\n",
    "plt.subplot(1,2,2)\n",
    "plt.plot(signalNoisy440[0:1000])\n",
    "_=plt.title('Noisy Signal')"
   ]
  },
  {
   "cell_type": "code",
   "execution_count": null,
   "id": "6db60bf0",
   "metadata": {},
   "outputs": [],
   "source": [
    "'''\n",
    "###optional: use this section to generate a .wav file that could be played on your computer.\n",
    "###Note that you will need to edit some of this code in order to use it effectively.\n",
    "import math\n",
    "FRAMES_PER_SECOND = 44100\n",
    "\n",
    "def sound_wave(frequency, num_seconds):\n",
    "    for frame in range(round(num_seconds * FRAMES_PER_SECOND)):\n",
    "        time = frame / FRAMES_PER_SECOND\n",
    "        amplitude = math.sin(2 * math.pi * frequency * time)\n",
    "        yield round((amplitude + 1) / 2 * 255)\n",
    "\n",
    "with wave.open(\"output.wav\", mode=\"wb\") as wav_file:\n",
    "    wav_file.setnchannels(1)\n",
    "    wav_file.setsampwidth(1)\n",
    "    wav_file.setframerate(FRAMES_PER_SECOND)\n",
    "    wav_file.writeframes(bytes(sound_wave(440, 2.5)))\n",
    "    \n",
    "'''"
   ]
  },
  {
   "cell_type": "code",
   "execution_count": null,
   "id": "a1db4921",
   "metadata": {},
   "outputs": [],
   "source": []
  },
  {
   "cell_type": "markdown",
   "id": "36113856",
   "metadata": {},
   "source": [
    "#### Part 2 - Filter the signal"
   ]
  },
  {
   "cell_type": "markdown",
   "id": "63b4421b",
   "metadata": {},
   "source": [
    "---\n",
    "\n",
    "\n",
    "**Signals are combined by adding them together. Here we combine a 440Hz sine wave with random noise amplified\n",
    "The rfft() method transforms a signal from time domain to frequency domain**\n",
    "\n",
    "---"
   ]
  },
  {
   "cell_type": "code",
   "execution_count": null,
   "id": "e55aed0d",
   "metadata": {
    "scrolled": true
   },
   "outputs": [],
   "source": [
    "# create noisy signal\n",
    "signalCombo = signal440 + noise*100\n",
    "\n",
    "# transform signal to frequency domain\n",
    "signalComboFFT = ft.rfft(signalCombo)\n",
    "\n",
    "# compute frequencies for x-axis\n",
    "freq = ft.rfftfreq(signalCombo.size, 1/sampleRate)\n",
    "\n",
    "# show signal in frequency domian\n",
    "plt.figure(figsize=(10,3))\n",
    "plt.subplot(1,2,1)\n",
    "plt.plot(t[0:1000], signalCombo[0:1000])\n",
    "plt.title('Noisy signal in time domain')\n",
    "plt.xlabel('Time Sec')\n",
    "plt.subplot(1,2,2)\n",
    "plt.title('Noisy signal in Frequency domain')\n",
    "plt.plot(freq[0:10000], np.abs(signalComboFFT)[0:10000])\n",
    "_=plt.xlabel('Frequency Hz')"
   ]
  },
  {
   "cell_type": "markdown",
   "id": "6f13becd",
   "metadata": {},
   "source": [
    "Determine location (array-index) of the desired signal in the frequncy domain, then\n",
    "zero out amplitude of all frequencies in the fft other than the desired signal"
   ]
  },
  {
   "cell_type": "code",
   "execution_count": null,
   "id": "8d0af9ce",
   "metadata": {
    "scrolled": true
   },
   "outputs": [],
   "source": [
    "Signalidx = np.abs(signalComboFFT) > 20000\n",
    "filteredFFT = np.zeros(signalComboFFT.size)\n",
    "filteredFFT[Signalidx] = signalComboFFT[Signalidx]\n",
    "plt.figure(figsize=(10,3))\n",
    "plt.plot(freq[0:10000], np.abs(filteredFFT)[0:10000])\n",
    "_=plt.xlabel('Frequency Hz')"
   ]
  },
  {
   "cell_type": "markdown",
   "id": "4d4fc481",
   "metadata": {},
   "source": [
    "---\n",
    "\n",
    "> **Take inverse fft of the fillterd signal**\n",
    "\n",
    "---"
   ]
  },
  {
   "cell_type": "code",
   "execution_count": null,
   "id": "dd75439d",
   "metadata": {},
   "outputs": [],
   "source": [
    "sigFiltered = ft.irfft(filteredFFT)\n",
    "_=plt.plot(t[0:1000], sigFiltered[0:1000])"
   ]
  },
  {
   "cell_type": "code",
   "execution_count": null,
   "id": "0f7ab18d",
   "metadata": {},
   "outputs": [],
   "source": []
  },
  {
   "cell_type": "markdown",
   "id": "5071fa50",
   "metadata": {},
   "source": [
    "<speak>\n",
    "    <audio src=\"https://intro.mp3\"/>\n",
    "    Welcome back.\n",
    "</speak>\n"
   ]
  },
  {
   "cell_type": "markdown",
   "id": "7b111cd1",
   "metadata": {},
   "source": [
    "<speak>\n",
    "    <audio src=\"https://intro.mp3\"/>\n",
    "    Welcome back.\n",
    "</speak>"
   ]
  }
 ],
 "metadata": {
  "kernelspec": {
   "display_name": "Python 3 (ipykernel)",
   "language": "python",
   "name": "python3"
  },
  "language_info": {
   "codemirror_mode": {
    "name": "ipython",
    "version": 3
   },
   "file_extension": ".py",
   "mimetype": "text/x-python",
   "name": "python",
   "nbconvert_exporter": "python",
   "pygments_lexer": "ipython3",
   "version": "3.11.4"
  },
  "varInspector": {
   "cols": {
    "lenName": 16,
    "lenType": 16,
    "lenVar": 40
   },
   "kernels_config": {
    "python": {
     "delete_cmd_postfix": "",
     "delete_cmd_prefix": "del ",
     "library": "var_list.py",
     "varRefreshCmd": "print(var_dic_list())"
    },
    "r": {
     "delete_cmd_postfix": ") ",
     "delete_cmd_prefix": "rm(",
     "library": "var_list.r",
     "varRefreshCmd": "cat(var_dic_list()) "
    }
   },
   "types_to_exclude": [
    "module",
    "function",
    "builtin_function_or_method",
    "instance",
    "_Feature"
   ],
   "window_display": false
  }
 },
 "nbformat": 4,
 "nbformat_minor": 5
}
