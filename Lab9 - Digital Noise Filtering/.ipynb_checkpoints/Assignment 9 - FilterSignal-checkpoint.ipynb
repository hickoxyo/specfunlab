{
 "cells": [
  {
   "cell_type": "markdown",
   "metadata": {},
   "source": [
    "## Assignment 9 - Filter signal\n",
    "### Put you name here\n",
    "#### NOTE: Submit this file as \"yourname-assignment9.ipynb\" to Moodle after completing the assignment\n",
    "\n",
    "### Assignment\n",
    "> - First create two sine waves of known frequency and combine them. In music we might call this playing in \"harmony\".  \n",
    "> - Create a series of random numbers from a Gaussian distribution of the same length as your harmony. \n",
    "> - Add the harmony and the random number sequence creating a new noisy signal.  \n",
    "> (optional) Geneate a .wav file so that your harmony (with and without noise) can be played by the audio player on your system.  \n",
    "\n",
    "\n",
    "</font> \n",
    "\n",
    "> - The final goal of this assignment is to \"filter\" the noisy signal to remove the random noise and recover the original harmony.\n",
    "> - This is done by transforming the signal to the frequency domain \n",
    "> - Then removing the unwanted frequencies\n",
    "> - Transforming the signal back to the time domain\n",
    "> - Verify this by plotting and playing a before and after signal"
   ]
  },
  {
   "cell_type": "code",
   "execution_count": 3,
   "metadata": {},
   "outputs": [],
   "source": [
    "import numpy as np\n",
    "from scipy.io import wavfile\n",
    "from scipy import fftpack as ft\n",
    "import matplotlib.pyplot as plt\n",
    "# Following two imports are only needed for optional part of the assgnment\n",
    "import math\n",
    "import wave\n",
    "\n"
   ]
  },
  {
   "cell_type": "code",
   "execution_count": null,
   "metadata": {},
   "outputs": [],
   "source": [
    "# Define needed constants and variables here"
   ]
  },
  {
   "cell_type": "code",
   "execution_count": null,
   "metadata": {},
   "outputs": [],
   "source": [
    "# Use as many cells as needed to write your code"
   ]
  }
 ],
 "metadata": {
  "kernelspec": {
   "display_name": "Python 3 (ipykernel)",
   "language": "python",
   "name": "python3"
  },
  "language_info": {
   "codemirror_mode": {
    "name": "ipython",
    "version": 3
   },
   "file_extension": ".py",
   "mimetype": "text/x-python",
   "name": "python",
   "nbconvert_exporter": "python",
   "pygments_lexer": "ipython3",
   "version": "3.11.4"
  },
  "varInspector": {
   "cols": {
    "lenName": 16,
    "lenType": 16,
    "lenVar": 40
   },
   "kernels_config": {
    "python": {
     "delete_cmd_postfix": "",
     "delete_cmd_prefix": "del ",
     "library": "var_list.py",
     "varRefreshCmd": "print(var_dic_list())"
    },
    "r": {
     "delete_cmd_postfix": ") ",
     "delete_cmd_prefix": "rm(",
     "library": "var_list.r",
     "varRefreshCmd": "cat(var_dic_list()) "
    }
   },
   "types_to_exclude": [
    "module",
    "function",
    "builtin_function_or_method",
    "instance",
    "_Feature"
   ],
   "window_display": true
  }
 },
 "nbformat": 4,
 "nbformat_minor": 2
}
