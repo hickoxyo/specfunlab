{
 "cells": [
  {
   "cell_type": "markdown",
   "metadata": {},
   "source": [
    "### Example 1 for LAB2\n",
    "### Create noisy sine wave\n",
    "\n",
    "#### Write a program to plot a sine wave. Add Gaussian noise to it. View the signal as a discrete digital signal.\n",
    "#### Use sampling rate of 80 (samples/Sec), duration of 2 Sec., and frequency 6 Hz.\n",
    "You may use other values to experiment"
   ]
  },
  {
   "cell_type": "code",
   "execution_count": null,
   "metadata": {},
   "outputs": [],
   "source": [
    "# Include all imports in the first cell upfront\n",
    "import numpy as np\n",
    "import matplotlib.pyplot as plt\n",
    "%matplotlib inline"
   ]
  },
  {
   "cell_type": "code",
   "execution_count": null,
   "metadata": {},
   "outputs": [],
   "source": [
    "# Define constants in this cell\n",
    "# samples per second\n",
    "s = 80\n",
    "# frequency\n",
    "f = 2\n",
    "# duration\n",
    "d = (-1, 1)\n",
    "\n",
    "# note: the use of *d in the following statement\n",
    "# create time steps\n",
    "t = np.linspace(*d, 2*s)"
   ]
  },
  {
   "cell_type": "code",
   "execution_count": null,
   "metadata": {},
   "outputs": [],
   "source": [
    "# Calculate sin(theta)\n",
    "signal = np.sin(2*np.pi*f*t)"
   ]
  },
  {
   "cell_type": "code",
   "execution_count": null,
   "metadata": {},
   "outputs": [],
   "source": [
    "# Plot y at times t\n",
    "sig = plt.plot(t, signal, '*')\n",
    "\n",
    "# Note: always label your plot\n",
    "plt.title(\"Sine Wave\")\n",
    "plt.xlabel(\"Sec\")\n",
    "_ = plt.ylabel(\"Amplitude\")"
   ]
  },
  {
   "cell_type": "markdown",
   "metadata": {},
   "source": [
    "Add random noise ---------------------------"
   ]
  },
  {
   "cell_type": "code",
   "execution_count": null,
   "metadata": {},
   "outputs": [],
   "source": [
    "# initialize random number generator\n",
    "k = np.random.seed(340)\n",
    "\n",
    "# generate Gaussian noise\n",
    "sdev = .1 # standard deviation\n",
    "m = 0 # mean\n",
    "noise = np.random.normal(m, sdev, signal.size)\n",
    "\n",
    "sign = signal + noise\n",
    "\n",
    "fig, ax = plt.subplots(3,1)\n",
    "fig.set_figheight(10)\n",
    "\n",
    "ax[0].set_title('Signal')\n",
    "ax[0].plot(t, signal, color='red')\n",
    "ax[1].set_title('Noise')\n",
    "ax[1].plot(t, noise, label='Noise')\n",
    "ax[2].set_title('Signal plus Noise')\n",
    "ax[2].plot(t, sign, color='blue', ls='--')\n",
    "_=ax[2].plot(t, signal, color ='red')\n"
   ]
  },
  {
   "cell_type": "code",
   "execution_count": null,
   "metadata": {},
   "outputs": [],
   "source": []
  }
 ],
 "metadata": {
  "kernelspec": {
   "display_name": "Python 3 (ipykernel)",
   "language": "python",
   "name": "python3"
  },
  "language_info": {
   "codemirror_mode": {
    "name": "ipython",
    "version": 3
   },
   "file_extension": ".py",
   "mimetype": "text/x-python",
   "name": "python",
   "nbconvert_exporter": "python",
   "pygments_lexer": "ipython3",
   "version": "3.11.4"
  },
  "varInspector": {
   "cols": {
    "lenName": 16,
    "lenType": 16,
    "lenVar": 40
   },
   "kernels_config": {
    "python": {
     "delete_cmd_postfix": "",
     "delete_cmd_prefix": "del ",
     "library": "var_list.py",
     "varRefreshCmd": "print(var_dic_list())"
    },
    "r": {
     "delete_cmd_postfix": ") ",
     "delete_cmd_prefix": "rm(",
     "library": "var_list.r",
     "varRefreshCmd": "cat(var_dic_list()) "
    }
   },
   "types_to_exclude": [
    "module",
    "function",
    "builtin_function_or_method",
    "instance",
    "_Feature"
   ],
   "window_display": false
  }
 },
 "nbformat": 4,
 "nbformat_minor": 2
}
