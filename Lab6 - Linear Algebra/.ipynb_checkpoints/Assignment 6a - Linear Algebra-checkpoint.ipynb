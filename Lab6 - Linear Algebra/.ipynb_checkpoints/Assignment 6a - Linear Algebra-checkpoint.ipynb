{
 "cells": [
  {
   "cell_type": "markdown",
   "metadata": {},
   "source": [
    "### Assignment  6a - Linear algebra\n",
    "### Solve the sets of linear equations two ways to verify result\n",
    "\n",
    "Method 1: Use functions defined below to solve the equations. You may write a program to go through the given steps or use them one step at a time in this notebook.\n",
    "\n",
    "Method 2: Use functions defined in the module scipy.linalg to solve the equations and compare results\n",
    "\n",
    "$ C@X = V$\n",
    "\n",
    "$ X = C^{-1} @ V $\n",
    "\n",
    "\n",
    "where\n",
    "\n",
    "- X is the matrix of unknowns (x,y,z),\n",
    "- C is the coefficient matrix $ C^{-1}$ is inverse of C \n",
    "- @ is the symbol for matrix multiplication in Python\n",
    "- and V is the value matrix\n",
    "- Use M for the augmented matrix\n",
    "\n",
    "\n",
    "**Note: Remember that there may be one, many, or no solution to these equations**\n",
    "\n",
    "$___________________________Equations__________________________________________________$\n",
    "\n",
    "Solve the following systems of equations:\n",
    "\n",
    "System 1:\n",
    "~~~\n",
    "2x + 3y - z = - 2\n",
    " x + 2y - z =   4\n",
    "4x + 7y - 3z = 11\n",
    "~~~\n",
    "System 2:\n",
    "~~~\n",
    " x - 2y + 3z = 4\n",
    " x + 2y - 6z = 0\n",
    "8x +  y - 2z = 1\n",
    "~~~\n",
    "\n",
    "Method/Algorithm\n",
    "\n",
    "- 1. Write the equations as an augmented array\n",
    "- 2. Create a row-reduced matrix from the given augmented array\n",
    " > - a. Use the first equation to remove x terms from the other rows\n",
    " > - b. Interchage the two rows if it is convenient\n",
    " > - c. Using the second row eliminate the y term from the next row(s)\n",
    " > - d. Divide each equation by the leading coefficient\n",
    "- 3. Use reverse substitution to find the values for remaining variables\n",
    "\n",
    "This method is also called Gaussian elimination to create an echelon matrix\n",
    "\n",
    "\n",
    "\n",
    "Matrix representation (example using system 1)\n",
    "\n",
    "\n",
    "$ \\left( \\begin{array}{ccc}\n",
    "+2 & +3 & -1 \\\\\n",
    "+1 & +2 & -1 \\\\\n",
    "+4 & +7 & -3 \\end{array} \\right) @\n",
    "\\left( \\begin{array}{ccc}\n",
    "x \\\\\n",
    "y \\\\\n",
    "z \\end{array} \\right)  = \\left( \\begin{array}{ccc}\n",
    "-2 \\\\\n",
    "4  \\\\\n",
    "11 \\end{array} \\right) \\\\ $\n",
    "\n",
    "$ C@X = V$\n",
    "\n",
    "Augmented matrix (M)\n",
    "\n",
    "$ \\left( \\begin{array}{ccc}\n",
    "+2 & +3 & -1 & -2\\\\\n",
    "+1 & +2 & -1 & -4\\\\\n",
    "+4 & +7 & -3 & +11\\end{array} \\right) $"
   ]
  },
  {
   "cell_type": "markdown",
   "metadata": {},
   "source": []
  },
  {
   "cell_type": "code",
   "execution_count": 2,
   "metadata": {},
   "outputs": [],
   "source": [
    "import numpy as np\n",
    "import matplotlib.pyplot as plt\n",
    "from scipy import linalg as lina\n",
    "%matplotlib inline"
   ]
  },
  {
   "cell_type": "code",
   "execution_count": null,
   "metadata": {},
   "outputs": [],
   "source": [
    "def mad(A,k,i,j):\n",
    "    \"\"\"\n",
    "    Add k times row j to row i in matrix A. \n",
    "    A[i] = A[i] + k * A[j]\n",
    "    \"\"\"\n",
    "    n = A.shape[0]\n",
    "    E = np.eye(n)\n",
    "    if i == j:\n",
    "        E[i,i] = k + 1\n",
    "    else:\n",
    "        E[i,j] = k\n",
    "    return E @ A"
   ]
  },
  {
   "cell_type": "code",
   "execution_count": null,
   "metadata": {},
   "outputs": [],
   "source": [
    "def mul(A,k,i):\n",
    "    \"\"\" \n",
    "    Multiply row i by k in matrix A.\n",
    "    A[i] = k*A[i]\n",
    "    \"\"\"\n",
    "    n = A.shape[0]\n",
    "    E = np.eye(n)\n",
    "    E[i,i] = k\n",
    "    return E @ A"
   ]
  },
  {
   "cell_type": "code",
   "execution_count": null,
   "metadata": {},
   "outputs": [],
   "source": [
    "def switch(A,i,j):\n",
    "    \"\"\"\n",
    "    Interchange rows i and j in matrix A.\n",
    "    t = A[i]; A[i] = A[j]; A[j] = t\n",
    "    \"\"\"\n",
    "    n = A.shape[0]\n",
    "    E = np.eye(n)\n",
    "    E[i,i] = 0\n",
    "    E[j,j] = 0\n",
    "    E[i,j] = 1\n",
    "    E[j,i] = 1\n",
    "    return E @ A"
   ]
  },
  {
   "cell_type": "code",
   "execution_count": null,
   "metadata": {},
   "outputs": [],
   "source": [
    "def scale(A, i):\n",
    "    \"\"\"\n",
    "    Divide row i with A[i,0]\n",
    "    \"\"\"\n",
    "    n = A.shape[0]\n",
    "    if n < i:\n",
    "        return null\n",
    "    A[i] = A[i]/A[i,0]\n",
    "    return A"
   ]
  },
  {
   "cell_type": "code",
   "execution_count": null,
   "metadata": {},
   "outputs": [],
   "source": [
    "# Write the necessary matrices (C,V, and X)\n",
    "# Combine C and X into the augmented matrix M\n",
    "\"\"\"\n",
    "2x + 3y - z = - 2\n",
    " x + 2y - z =   4\n",
    "4x + 7y - 3z = 11\n",
    "\"\"\"\n",
    "C = np.array()\n",
    "V = np.array()\n",
    "X = np.array([['x'],['y'],['z']])\n",
    "M = np.concatenate((C, V), 1)"
   ]
  },
  {
   "cell_type": "code",
   "execution_count": null,
   "metadata": {},
   "outputs": [],
   "source": []
  },
  {
   "cell_type": "markdown",
   "metadata": {},
   "source": [
    "### Solve equations using defined methods"
   ]
  },
  {
   "cell_type": "code",
   "execution_count": null,
   "metadata": {},
   "outputs": [],
   "source": [
    "# Test out the functions listed above\n"
   ]
  },
  {
   "cell_type": "code",
   "execution_count": null,
   "metadata": {},
   "outputs": [],
   "source": [
    "# Process M into the row reduced (echelon) form by forward elimination steps: as many as necessary. \n",
    "# Use the functions above as necessary\n"
   ]
  },
  {
   "cell_type": "code",
   "execution_count": null,
   "metadata": {},
   "outputs": [],
   "source": [
    "# Use backward substituion steps to find X\n",
    "# Print result\n"
   ]
  },
  {
   "cell_type": "code",
   "execution_count": null,
   "metadata": {},
   "outputs": [],
   "source": [
    "# Use a built-in function to compute X = inv(C)  @ V\n",
    "# Print X\n",
    "# Compare results\n"
   ]
  },
  {
   "cell_type": "code",
   "execution_count": 3,
   "metadata": {},
   "outputs": [],
   "source": [
    "# Repeat both methods for the following system of equations:\n",
    "\"\"\"\n",
    " x - 2y + 3z = 4\n",
    " x + 2y - 6z = 0\n",
    "8x +  y - 2z = 1\n",
    "\"\"\"\n"
   ]
  },
  {
   "cell_type": "code",
   "execution_count": 4,
   "metadata": {},
   "outputs": [],
   "source": []
  },
  {
   "cell_type": "code",
   "execution_count": null,
   "metadata": {},
   "outputs": [],
   "source": []
  },
  {
   "cell_type": "code",
   "execution_count": null,
   "metadata": {},
   "outputs": [],
   "source": []
  }
 ],
 "metadata": {
  "kernelspec": {
   "display_name": "Python 3 (ipykernel)",
   "language": "python",
   "name": "python3"
  },
  "language_info": {
   "codemirror_mode": {
    "name": "ipython",
    "version": 3
   },
   "file_extension": ".py",
   "mimetype": "text/x-python",
   "name": "python",
   "nbconvert_exporter": "python",
   "pygments_lexer": "ipython3",
   "version": "3.11.4"
  },
  "varInspector": {
   "cols": {
    "lenName": 16,
    "lenType": 16,
    "lenVar": 40
   },
   "kernels_config": {
    "python": {
     "delete_cmd_postfix": "",
     "delete_cmd_prefix": "del ",
     "library": "var_list.py",
     "varRefreshCmd": "print(var_dic_list())"
    },
    "r": {
     "delete_cmd_postfix": ") ",
     "delete_cmd_prefix": "rm(",
     "library": "var_list.r",
     "varRefreshCmd": "cat(var_dic_list()) "
    }
   },
   "types_to_exclude": [
    "module",
    "function",
    "builtin_function_or_method",
    "instance",
    "_Feature"
   ],
   "window_display": false
  }
 },
 "nbformat": 4,
 "nbformat_minor": 2
}
